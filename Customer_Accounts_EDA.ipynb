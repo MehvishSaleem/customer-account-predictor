{
 "cells": [
  {
   "cell_type": "markdown",
   "metadata": {},
   "source": [
    "# Exploratory Data Analysis\n",
    "\n",
    "This notebook contains the analysis of the Customer Account Data from January, 2015 to April, 2016. "
   ]
  },
  {
   "cell_type": "code",
   "execution_count": 3,
   "metadata": {},
   "outputs": [],
   "source": [
    "import pandas as pd\n",
    "import matplotlib.pyplot as plt\n",
    "import numpy as np"
   ]
  },
  {
   "cell_type": "code",
   "execution_count": 5,
   "metadata": {},
   "outputs": [],
   "source": [
    "# Loading train accounts\n",
    "train_accounts = pd.read_csv(\"data_csv/train/train_accounts.csv\")"
   ]
  },
  {
   "cell_type": "code",
   "execution_count": 4,
   "metadata": {},
   "outputs": [
    {
     "name": "stderr",
     "output_type": "stream",
     "text": [
      "/usr/local/Cellar/python3/3.6.4_2/Frameworks/Python.framework/Versions/3.6/lib/python3.6/site-packages/IPython/core/interactiveshell.py:2728: DtypeWarning: Columns (5,8,11,15) have mixed types. Specify dtype option on import or set low_memory=False.\n",
      "  interactivity=interactivity, compiler=compiler, result=result)\n"
     ]
    }
   ],
   "source": [
    "# Loading monthly info associated with the train accounts\n",
    "monthly_info = pd.read_csv(\"data_csv/train/train_monthly_info.csv\")"
   ]
  },
  {
   "cell_type": "code",
   "execution_count": 7,
   "metadata": {},
   "outputs": [
    {
     "data": {
      "text/plain": [
       "Index(['date', 'cust_id', 'employee_index', 'country', 'sex', 'age',\n",
       "       'open_date', 'last_6_months_flag', 'seniority', 'primary',\n",
       "       'last_date_primary', 'customer_type', 'customer_relation',\n",
       "       'domestic_index', 'foreigner_index', 'spouse_index', 'channel',\n",
       "       'deceased_status', 'primary_address', 'province_code', 'province_name',\n",
       "       'activity_index', 'gross_income', 'segment'],\n",
       "      dtype='object')"
      ]
     },
     "execution_count": 7,
     "metadata": {},
     "output_type": "execute_result"
    }
   ],
   "source": [
    "columns = monthly_info.columns\n",
    "columns"
   ]
  },
  {
   "cell_type": "markdown",
   "metadata": {},
   "source": [
    "## Checking missing values\n",
    "\n",
    "Most of the Machine Learning models cannot deal with missing values in data. As part of pre-processing, it is very important to find out the percentage of missing values for each field and remedy the situation by either filling the gaps or dropping the rows.  "
   ]
  },
  {
   "cell_type": "code",
   "execution_count": 8,
   "metadata": {},
   "outputs": [],
   "source": [
    "#Finding missing values for each field in the monthly info dataframe\n",
    "\n",
    "percent_missing = monthly_info.isnull().sum() * 100 / len(monthly_info)\n",
    "\n",
    "missing = monthly_info.isnull().sum() * 100 / len(monthly_info)\n",
    "missing_value_df = pd.DataFrame({'column_name': columns,\n",
    "                                 'percent_missing': missing})"
   ]
  },
  {
   "cell_type": "code",
   "execution_count": 9,
   "metadata": {},
   "outputs": [
    {
     "data": {
      "text/html": [
       "<div>\n",
       "<style>\n",
       "    .dataframe thead tr:only-child th {\n",
       "        text-align: right;\n",
       "    }\n",
       "\n",
       "    .dataframe thead th {\n",
       "        text-align: left;\n",
       "    }\n",
       "\n",
       "    .dataframe tbody tr th {\n",
       "        vertical-align: top;\n",
       "    }\n",
       "</style>\n",
       "<table border=\"1\" class=\"dataframe\">\n",
       "  <thead>\n",
       "    <tr style=\"text-align: right;\">\n",
       "      <th></th>\n",
       "      <th>column_name</th>\n",
       "      <th>percent_missing</th>\n",
       "    </tr>\n",
       "  </thead>\n",
       "  <tbody>\n",
       "    <tr>\n",
       "      <th>spouse_index</th>\n",
       "      <td>spouse_index</td>\n",
       "      <td>99.986678</td>\n",
       "    </tr>\n",
       "    <tr>\n",
       "      <th>last_date_primary</th>\n",
       "      <td>last_date_primary</td>\n",
       "      <td>99.819729</td>\n",
       "    </tr>\n",
       "    <tr>\n",
       "      <th>gross_income</th>\n",
       "      <td>gross_income</td>\n",
       "      <td>20.174474</td>\n",
       "    </tr>\n",
       "    <tr>\n",
       "      <th>segment</th>\n",
       "      <td>segment</td>\n",
       "      <td>1.433981</td>\n",
       "    </tr>\n",
       "    <tr>\n",
       "      <th>channel</th>\n",
       "      <td>channel</td>\n",
       "      <td>1.411049</td>\n",
       "    </tr>\n",
       "    <tr>\n",
       "      <th>customer_type</th>\n",
       "      <td>customer_type</td>\n",
       "      <td>1.146372</td>\n",
       "    </tr>\n",
       "    <tr>\n",
       "      <th>customer_relation</th>\n",
       "      <td>customer_relation</td>\n",
       "      <td>1.146372</td>\n",
       "    </tr>\n",
       "    <tr>\n",
       "      <th>province_name</th>\n",
       "      <td>province_name</td>\n",
       "      <td>0.704624</td>\n",
       "    </tr>\n",
       "    <tr>\n",
       "      <th>province_code</th>\n",
       "      <td>province_code</td>\n",
       "      <td>0.704624</td>\n",
       "    </tr>\n",
       "    <tr>\n",
       "      <th>sex</th>\n",
       "      <td>sex</td>\n",
       "      <td>0.218617</td>\n",
       "    </tr>\n",
       "    <tr>\n",
       "      <th>primary_address</th>\n",
       "      <td>primary_address</td>\n",
       "      <td>0.218114</td>\n",
       "    </tr>\n",
       "    <tr>\n",
       "      <th>country</th>\n",
       "      <td>country</td>\n",
       "      <td>0.218106</td>\n",
       "    </tr>\n",
       "    <tr>\n",
       "      <th>employee_index</th>\n",
       "      <td>employee_index</td>\n",
       "      <td>0.218106</td>\n",
       "    </tr>\n",
       "    <tr>\n",
       "      <th>activity_index</th>\n",
       "      <td>activity_index</td>\n",
       "      <td>0.218106</td>\n",
       "    </tr>\n",
       "    <tr>\n",
       "      <th>deceased_status</th>\n",
       "      <td>deceased_status</td>\n",
       "      <td>0.218106</td>\n",
       "    </tr>\n",
       "    <tr>\n",
       "      <th>last_6_months_flag</th>\n",
       "      <td>last_6_months_flag</td>\n",
       "      <td>0.218106</td>\n",
       "    </tr>\n",
       "    <tr>\n",
       "      <th>foreigner_index</th>\n",
       "      <td>foreigner_index</td>\n",
       "      <td>0.218106</td>\n",
       "    </tr>\n",
       "    <tr>\n",
       "      <th>domestic_index</th>\n",
       "      <td>domestic_index</td>\n",
       "      <td>0.218106</td>\n",
       "    </tr>\n",
       "    <tr>\n",
       "      <th>open_date</th>\n",
       "      <td>open_date</td>\n",
       "      <td>0.218106</td>\n",
       "    </tr>\n",
       "    <tr>\n",
       "      <th>primary</th>\n",
       "      <td>primary</td>\n",
       "      <td>0.218106</td>\n",
       "    </tr>\n",
       "    <tr>\n",
       "      <th>seniority</th>\n",
       "      <td>seniority</td>\n",
       "      <td>0.000000</td>\n",
       "    </tr>\n",
       "    <tr>\n",
       "      <th>cust_id</th>\n",
       "      <td>cust_id</td>\n",
       "      <td>0.000000</td>\n",
       "    </tr>\n",
       "    <tr>\n",
       "      <th>age</th>\n",
       "      <td>age</td>\n",
       "      <td>0.000000</td>\n",
       "    </tr>\n",
       "    <tr>\n",
       "      <th>date</th>\n",
       "      <td>date</td>\n",
       "      <td>0.000000</td>\n",
       "    </tr>\n",
       "  </tbody>\n",
       "</table>\n",
       "</div>"
      ],
      "text/plain": [
       "                           column_name  percent_missing\n",
       "spouse_index              spouse_index        99.986678\n",
       "last_date_primary    last_date_primary        99.819729\n",
       "gross_income              gross_income        20.174474\n",
       "segment                        segment         1.433981\n",
       "channel                        channel         1.411049\n",
       "customer_type            customer_type         1.146372\n",
       "customer_relation    customer_relation         1.146372\n",
       "province_name            province_name         0.704624\n",
       "province_code            province_code         0.704624\n",
       "sex                                sex         0.218617\n",
       "primary_address        primary_address         0.218114\n",
       "country                        country         0.218106\n",
       "employee_index          employee_index         0.218106\n",
       "activity_index          activity_index         0.218106\n",
       "deceased_status        deceased_status         0.218106\n",
       "last_6_months_flag  last_6_months_flag         0.218106\n",
       "foreigner_index        foreigner_index         0.218106\n",
       "domestic_index          domestic_index         0.218106\n",
       "open_date                    open_date         0.218106\n",
       "primary                        primary         0.218106\n",
       "seniority                    seniority         0.000000\n",
       "cust_id                        cust_id         0.000000\n",
       "age                                age         0.000000\n",
       "date                              date         0.000000"
      ]
     },
     "execution_count": 9,
     "metadata": {},
     "output_type": "execute_result"
    }
   ],
   "source": [
    "#Sorting the missing values dataframe in descending order\n",
    "missing_value_df.sort_values('percent_missing', inplace=True, ascending=False)\n",
    "missing_value_df"
   ]
  },
  {
   "cell_type": "code",
   "execution_count": 10,
   "metadata": {},
   "outputs": [
    {
     "data": {
      "text/plain": [
       "Index(['date', 'savings_account', 'guarantees', 'current_accounts',\n",
       "       'derived_account', 'payroll_account', 'junior_account',\n",
       "       'more_particular_account', 'particular_account',\n",
       "       'particular_plus_account', 'short_term_deposits',\n",
       "       'medium_term_deposits', 'long_term_deposits', 'e_account', 'funds',\n",
       "       'mortgage', 'pensions', 'loans', 'taxes', 'credit_card', 'securities',\n",
       "       'home_account', 'payroll', 'direct_debt', 'cust_key'],\n",
       "      dtype='object')"
      ]
     },
     "execution_count": 10,
     "metadata": {},
     "output_type": "execute_result"
    }
   ],
   "source": [
    "train_accounts.columns"
   ]
  },
  {
   "cell_type": "markdown",
   "metadata": {},
   "source": [
    "## Checking Class imbalance\n",
    "\n"
   ]
  },
  {
   "cell_type": "code",
   "execution_count": 11,
   "metadata": {},
   "outputs": [],
   "source": [
    "idx = train_accounts.groupby(['cust_key'])['date'].transform(max) == train_accounts['date']"
   ]
  },
  {
   "cell_type": "code",
   "execution_count": 12,
   "metadata": {},
   "outputs": [],
   "source": [
    "unique_customers = train_accounts[idx]"
   ]
  },
  {
   "cell_type": "code",
   "execution_count": 13,
   "metadata": {},
   "outputs": [
    {
     "data": {
      "text/plain": [
       "951952"
      ]
     },
     "execution_count": 13,
     "metadata": {},
     "output_type": "execute_result"
    }
   ],
   "source": [
    "len(unique_customers)"
   ]
  },
  {
   "cell_type": "code",
   "execution_count": 14,
   "metadata": {},
   "outputs": [
    {
     "data": {
      "text/plain": [
       "<matplotlib.axes._subplots.AxesSubplot at 0x111bafd68>"
      ]
     },
     "execution_count": 14,
     "metadata": {},
     "output_type": "execute_result"
    },
    {
     "data": {
      "image/png": "[encoded data removed]",
      "text/plain": [
       "<matplotlib.figure.Figure at 0x111baf898>"
      ]
     },
     "metadata": {},
     "output_type": "display_data"
    }
   ],
   "source": [
    "classes = unique_customers.drop([\"date\", \"cust_key\"], axis=1)\n",
    "classes.sum().plot.bar()"
   ]
  },
  {
   "cell_type": "markdown",
   "metadata": {},
   "source": [
    "## Checking for duplicate rows"
   ]
  },
  {
   "cell_type": "code",
   "execution_count": 15,
   "metadata": {},
   "outputs": [],
   "source": [
    "df = train_accounts.drop_duplicates(keep='first')"
   ]
  },
  {
   "cell_type": "code",
   "execution_count": 16,
   "metadata": {},
   "outputs": [
    {
     "name": "stdout",
     "output_type": "stream",
     "text": [
      "12715856\n",
      "12715856\n"
     ]
    }
   ],
   "source": [
    "print(len(train_accounts))\n",
    "print(len(df))"
   ]
  },
  {
   "cell_type": "code",
   "execution_count": 17,
   "metadata": {},
   "outputs": [],
   "source": [
    "df = monthly_info.drop_duplicates(keep='first')"
   ]
  },
  {
   "cell_type": "code",
   "execution_count": 18,
   "metadata": {},
   "outputs": [
    {
     "name": "stdout",
     "output_type": "stream",
     "text": [
      "12715856\n",
      "12715856\n"
     ]
    }
   ],
   "source": [
    "print(len(monthly_info))\n",
    "print(len(df))"
   ]
  },
  {
   "cell_type": "code",
   "execution_count": 19,
   "metadata": {},
   "outputs": [
    {
     "data": {
      "text/plain": [
       "951952"
      ]
     },
     "execution_count": 19,
     "metadata": {},
     "output_type": "execute_result"
    }
   ],
   "source": [
    "monthly_info[\"cust_id\"].nunique()"
   ]
  },
  {
   "cell_type": "code",
   "execution_count": 20,
   "metadata": {},
   "outputs": [
    {
     "data": {
      "text/plain": [
       "951952"
      ]
     },
     "execution_count": 20,
     "metadata": {},
     "output_type": "execute_result"
    }
   ],
   "source": [
    "train_accounts[\"cust_key\"].nunique()"
   ]
  },
  {
   "cell_type": "code",
   "execution_count": 55,
   "metadata": {},
   "outputs": [
    {
     "data": {
      "text/plain": [
       "Index(['date', 'cust_id', 'employee_index', 'country', 'sex', 'age',\n",
       "       'open_date', 'last_6_months_flag', 'seniority', 'primary',\n",
       "       'last_date_primary', 'customer_type', 'customer_relation',\n",
       "       'domestic_index', 'foreigner_index', 'spouse_index', 'channel',\n",
       "       'deceased_status', 'primary_address', 'province_code', 'province_name',\n",
       "       'activity_index', 'gross_income', 'segment'],\n",
       "      dtype='object')"
      ]
     },
     "execution_count": 55,
     "metadata": {},
     "output_type": "execute_result"
    }
   ],
   "source": [
    "monthly_info.columns"
   ]
  },
  {
   "cell_type": "markdown",
   "metadata": {},
   "source": [
    "## Checking the distribution of continuous variables"
   ]
  },
  {
   "cell_type": "code",
   "execution_count": 86,
   "metadata": {},
   "outputs": [],
   "source": [
    "# using unique customers df, not the original one\n",
    "\n",
    "idx = monthly_info.groupby(['cust_id'])['date'].transform(max) == monthly_info['date']\n",
    "unique_monthly_info = monthly_info[idx]\n",
    "drop_na_age = unique_monthly_info.dropna(subset=[\"age\"])\n",
    "# fig = plt.figure(figsize = (20,10))\n",
    "# ax = fig.gca()\n",
    "# monthly_info.gross_income.plot(kind=\"bar\",ax=ax)"
   ]
  },
  {
   "cell_type": "code",
   "execution_count": 88,
   "metadata": {},
   "outputs": [
    {
     "data": {
      "text/plain": [
       "array([' NA', ' 70', ' 45', ' 73', ' 34', ' 47', '103', ' 41', ' 11',\n",
       "       ' 66', ' 44', ' 31', ' 37', ' 33', ' 78', ' 85', ' 30', ' 14',\n",
       "       ' 19', ' 39', 47, 41, 71, 85, 38, 37, 35, 52, 32, 45, 83, 56, 44,\n",
       "       36, 87, 33, 61, 49, 78, 20, 90, 59, 12, 40, 57, 43, 51, 68, 46, 84,\n",
       "       70, 22, 15, 92, 58, 31, 50, 48, 39, 42, 54, 34, 73, 30, 17, 19, 67,\n",
       "       53, 65, 25, 23, 24, 29, 26, 28, 27, 9, 74, 55, 69, 63, 66, 93, 80,\n",
       "       72, 60, 89, 82, 77, 102, 91, 81, 76, 95, 16, 97, 64, 75, 7, 21,\n",
       "       101, 62, 88, 86, 96, 98, 18, 4, 8, 79, 100, 94, 13, 11, 14, 10, 99,\n",
       "       2, 6, 104, 5, 116, 112, 110, 105, 103, 108, 111, 106, 113, 107,\n",
       "       114, 3, 127, 164, 109, 117, 115], dtype=object)"
      ]
     },
     "execution_count": 88,
     "metadata": {},
     "output_type": "execute_result"
    }
   ],
   "source": [
    "drop_na_age.age.unique()"
   ]
  },
  {
   "cell_type": "code",
   "execution_count": 89,
   "metadata": {},
   "outputs": [],
   "source": [
    "drop_na_age = drop_na_age[drop_na_age.age != ' NA']"
   ]
  },
  {
   "cell_type": "code",
   "execution_count": 90,
   "metadata": {},
   "outputs": [
    {
     "name": "stderr",
     "output_type": "stream",
     "text": [
      "/usr/local/Cellar/python3/3.6.4_2/Frameworks/Python.framework/Versions/3.6/lib/python3.6/site-packages/ipykernel_launcher.py:1: SettingWithCopyWarning: \n",
      "A value is trying to be set on a copy of a slice from a DataFrame.\n",
      "Try using .loc[row_indexer,col_indexer] = value instead\n",
      "\n",
      "See the caveats in the documentation: http://pandas.pydata.org/pandas-docs/stable/indexing.html#indexing-view-versus-copy\n",
      "  \"\"\"Entry point for launching an IPython kernel.\n"
     ]
    }
   ],
   "source": [
    "drop_na_age[\"age\"] = drop_na_age[\"age\"].astype(np.int)"
   ]
  },
  {
   "cell_type": "code",
   "execution_count": 91,
   "metadata": {},
   "outputs": [
    {
     "data": {
      "text/plain": [
       "array([ 70,  45,  73,  34,  47, 103,  41,  11,  66,  44,  31,  37,  33,\n",
       "        78,  85,  30,  14,  19,  39,  71,  38,  35,  52,  32,  83,  56,\n",
       "        36,  87,  61,  49,  20,  90,  59,  12,  40,  57,  43,  51,  68,\n",
       "        46,  84,  22,  15,  92,  58,  50,  48,  42,  54,  17,  67,  53,\n",
       "        65,  25,  23,  24,  29,  26,  28,  27,   9,  74,  55,  69,  63,\n",
       "        93,  80,  72,  60,  89,  82,  77, 102,  91,  81,  76,  95,  16,\n",
       "        97,  64,  75,   7,  21, 101,  62,  88,  86,  96,  98,  18,   4,\n",
       "         8,  79, 100,  94,  13,  10,  99,   2,   6, 104,   5, 116, 112,\n",
       "       110, 105, 108, 111, 106, 113, 107, 114,   3, 127, 164, 109, 117,\n",
       "       115])"
      ]
     },
     "execution_count": 91,
     "metadata": {},
     "output_type": "execute_result"
    }
   ],
   "source": [
    "drop_na_age.age.unique()"
   ]
  },
  {
   "cell_type": "code",
   "execution_count": 92,
   "metadata": {},
   "outputs": [
    {
     "data": {
      "text/plain": [
       "array([[<matplotlib.axes._subplots.AxesSubplot object at 0x18c506630>]],\n",
       "      dtype=object)"
      ]
     },
     "execution_count": 92,
     "metadata": {},
     "output_type": "execute_result"
    },
    {
     "data": {
      "image/png": "[encoded data removed]",
      "text/plain": [
       "<matplotlib.figure.Figure at 0x18c50d048>"
      ]
     },
     "metadata": {},
     "output_type": "display_data"
    }
   ],
   "source": [
    "# fig = plt.figure(figsize = (20,10))\n",
    "# ax = fig.gca()\n",
    "drop_na_age.hist(column=\"age\")"
   ]
  },
  {
   "cell_type": "code",
   "execution_count": 93,
   "metadata": {},
   "outputs": [
    {
     "data": {
      "text/plain": [
       "array([[<matplotlib.axes._subplots.AxesSubplot object at 0x153414470>]],\n",
       "      dtype=object)"
      ]
     },
     "execution_count": 93,
     "metadata": {},
     "output_type": "execute_result"
    },
    {
     "data": {
      "image/png": "[encoded data removed]",
      "text/plain": [
       "<matplotlib.figure.Figure at 0x1643fc7f0>"
      ]
     },
     "metadata": {},
     "output_type": "display_data"
    }
   ],
   "source": [
    "unique_monthly_info.hist(column=\"gross_income\", bins=100, log=True)\n"
   ]
  },
  {
   "cell_type": "code",
   "execution_count": 99,
   "metadata": {},
   "outputs": [],
   "source": [
    "drop_na_seniority = unique_monthly_info.dropna(subset=[\"seniority\"])\n"
   ]
  },
  {
   "cell_type": "code",
   "execution_count": 103,
   "metadata": {},
   "outputs": [
    {
     "data": {
      "text/plain": [
       "array(['     NA', '    105', '      4', '    104', '    107', '     20',\n",
       "       '     61', '     10', '    111', '    110', '      3', '      0',\n",
       "       '    112', 110, 3, 109, 96, 50, 0, 97, 93, 95, 94, 101, 102, 99,\n",
       "       100, 126, 127, 132, 133, 129, 117, 131, 178, 89, 40, 115, 116, 81,\n",
       "       113, 114, 121, 120, 1, 36, 122, 4, 118, 6, 55, 53, 17, 56, 49, 8,\n",
       "       48, 62, 63, 64, 65, 10, 60, 58, 61, 24, 46, 45, 47, 85, 84, 87, 5,\n",
       "       82, 83, 91, 92, 90, 88, 7, 76, 77, 72, 66, 13, 71, 51, 16, 80, 79,\n",
       "       78, 9, 185, 180, 170, 181, 191, 188, 186, 190, 173, 2, 156, 171,\n",
       "       18, 149, 177, 179, 174, 202, 225, 215, 213, 123, 224, 147, 235,\n",
       "       242, 229, 209, 231, 199, 193, 208, 200, 197, 195, 198, 14, 210,\n",
       "       205, 207, 112, 150, 152, 151, 148, 125, 157, 154, 155, 137, 135,\n",
       "       57, 138, 139, 136, 144, 142, 143, 44, 140, 141, 164, 165, 163, 169,\n",
       "       70, 168, 167, 166, 162, 160, 158, 159, 161, 31, 32, 27, 28, 29, 26,\n",
       "       30, 33, 22, 23, 21, 25, 43, 42, 41, 39, 19, 35, 34, 37, 38, 12, 11,\n",
       "       15, 20, 59, 54, 52, 86, 75, 74, 67, 68, 69, 124, 130, 128, 119,\n",
       "       145, 134, 105, 107, 103, 108, 106, 194, 187, 189, 176, 182, 183,\n",
       "       223, 218, 222, 238, 230, 246, 232, 234, 196, 206, 201, 212, 217,\n",
       "       172, 175, 146, 111, 73, 104, 192, 184, 228, 219, 153, 203, 98, 211,\n",
       "       204, 236, 244, 239, 240, 221, 226, 241, 237, 220, 216, 245, 247,\n",
       "       227, 233, 248, 243, 252, -999999, 214, 251, 255, 250, 253, 249,\n",
       "       254], dtype=object)"
      ]
     },
     "execution_count": 103,
     "metadata": {},
     "output_type": "execute_result"
    }
   ],
   "source": [
    "drop_na_seniority.seniority.unique()"
   ]
  },
  {
   "cell_type": "code",
   "execution_count": 104,
   "metadata": {},
   "outputs": [],
   "source": [
    "drop_na_seniority = drop_na_seniority[drop_na_seniority.seniority != '     NA']"
   ]
  },
  {
   "cell_type": "code",
   "execution_count": 105,
   "metadata": {},
   "outputs": [
    {
     "name": "stderr",
     "output_type": "stream",
     "text": [
      "/usr/local/Cellar/python3/3.6.4_2/Frameworks/Python.framework/Versions/3.6/lib/python3.6/site-packages/ipykernel_launcher.py:1: SettingWithCopyWarning: \n",
      "A value is trying to be set on a copy of a slice from a DataFrame.\n",
      "Try using .loc[row_indexer,col_indexer] = value instead\n",
      "\n",
      "See the caveats in the documentation: http://pandas.pydata.org/pandas-docs/stable/indexing.html#indexing-view-versus-copy\n",
      "  \"\"\"Entry point for launching an IPython kernel.\n"
     ]
    },
    {
     "data": {
      "text/plain": [
       "-999999"
      ]
     },
     "execution_count": 105,
     "metadata": {},
     "output_type": "execute_result"
    }
   ],
   "source": [
    "drop_na_seniority[\"seniority\"] = drop_na_seniority[\"seniority\"].astype(np.int)\n",
    "drop_na_seniority.seniority.min()"
   ]
  },
  {
   "cell_type": "code",
   "execution_count": 110,
   "metadata": {},
   "outputs": [
    {
     "data": {
      "text/html": [
       "<div>\n",
       "<style>\n",
       "    .dataframe thead tr:only-child th {\n",
       "        text-align: right;\n",
       "    }\n",
       "\n",
       "    .dataframe thead th {\n",
       "        text-align: left;\n",
       "    }\n",
       "\n",
       "    .dataframe tbody tr th {\n",
       "        vertical-align: top;\n",
       "    }\n",
       "</style>\n",
       "<table border=\"1\" class=\"dataframe\">\n",
       "  <thead>\n",
       "    <tr style=\"text-align: right;\">\n",
       "      <th></th>\n",
       "      <th>date</th>\n",
       "      <th>cust_id</th>\n",
       "      <th>employee_index</th>\n",
       "      <th>country</th>\n",
       "      <th>sex</th>\n",
       "      <th>age</th>\n",
       "      <th>open_date</th>\n",
       "      <th>last_6_months_flag</th>\n",
       "      <th>seniority</th>\n",
       "      <th>primary</th>\n",
       "      <th>...</th>\n",
       "      <th>foreigner_index</th>\n",
       "      <th>spouse_index</th>\n",
       "      <th>channel</th>\n",
       "      <th>deceased_status</th>\n",
       "      <th>primary_address</th>\n",
       "      <th>province_code</th>\n",
       "      <th>province_name</th>\n",
       "      <th>activity_index</th>\n",
       "      <th>gross_income</th>\n",
       "      <th>segment</th>\n",
       "    </tr>\n",
       "  </thead>\n",
       "  <tbody>\n",
       "    <tr>\n",
       "      <th>11978594</th>\n",
       "      <td>2016-04-28</td>\n",
       "      <td>750561</td>\n",
       "      <td>N</td>\n",
       "      <td>ES</td>\n",
       "      <td>V</td>\n",
       "      <td>37</td>\n",
       "      <td>2016-01-27</td>\n",
       "      <td>0.0</td>\n",
       "      <td>-999999</td>\n",
       "      <td>1.0</td>\n",
       "      <td>...</td>\n",
       "      <td>N</td>\n",
       "      <td>NaN</td>\n",
       "      <td>RED</td>\n",
       "      <td>N</td>\n",
       "      <td>1.0</td>\n",
       "      <td>28.0</td>\n",
       "      <td>MADRID</td>\n",
       "      <td>1.0</td>\n",
       "      <td>NaN</td>\n",
       "      <td>02 - PARTICULARES</td>\n",
       "    </tr>\n",
       "    <tr>\n",
       "      <th>12041260</th>\n",
       "      <td>2016-04-28</td>\n",
       "      <td>138388</td>\n",
       "      <td>N</td>\n",
       "      <td>ES</td>\n",
       "      <td>V</td>\n",
       "      <td>52</td>\n",
       "      <td>1999-07-16</td>\n",
       "      <td>0.0</td>\n",
       "      <td>-999999</td>\n",
       "      <td>1.0</td>\n",
       "      <td>...</td>\n",
       "      <td>N</td>\n",
       "      <td>NaN</td>\n",
       "      <td>004</td>\n",
       "      <td>N</td>\n",
       "      <td>1.0</td>\n",
       "      <td>28.0</td>\n",
       "      <td>MADRID</td>\n",
       "      <td>1.0</td>\n",
       "      <td>198122.16</td>\n",
       "      <td>01 - TOP</td>\n",
       "    </tr>\n",
       "    <tr>\n",
       "      <th>12111000</th>\n",
       "      <td>2016-04-28</td>\n",
       "      <td>162278</td>\n",
       "      <td>N</td>\n",
       "      <td>ES</td>\n",
       "      <td>V</td>\n",
       "      <td>67</td>\n",
       "      <td>2005-06-08</td>\n",
       "      <td>0.0</td>\n",
       "      <td>-999999</td>\n",
       "      <td>1.0</td>\n",
       "      <td>...</td>\n",
       "      <td>N</td>\n",
       "      <td>NaN</td>\n",
       "      <td>004</td>\n",
       "      <td>N</td>\n",
       "      <td>1.0</td>\n",
       "      <td>28.0</td>\n",
       "      <td>MADRID</td>\n",
       "      <td>0.0</td>\n",
       "      <td>173862.36</td>\n",
       "      <td>02 - PARTICULARES</td>\n",
       "    </tr>\n",
       "  </tbody>\n",
       "</table>\n",
       "<p>3 rows × 24 columns</p>\n",
       "</div>"
      ],
      "text/plain": [
       "                date  cust_id employee_index country sex age   open_date  \\\n",
       "11978594  2016-04-28   750561              N      ES   V  37  2016-01-27   \n",
       "12041260  2016-04-28   138388              N      ES   V  52  1999-07-16   \n",
       "12111000  2016-04-28   162278              N      ES   V  67  2005-06-08   \n",
       "\n",
       "          last_6_months_flag  seniority  primary        ...          \\\n",
       "11978594                 0.0    -999999      1.0        ...           \n",
       "12041260                 0.0    -999999      1.0        ...           \n",
       "12111000                 0.0    -999999      1.0        ...           \n",
       "\n",
       "         foreigner_index spouse_index channel deceased_status primary_address  \\\n",
       "11978594               N          NaN     RED               N             1.0   \n",
       "12041260               N          NaN     004               N             1.0   \n",
       "12111000               N          NaN     004               N             1.0   \n",
       "\n",
       "         province_code province_name activity_index  gross_income  \\\n",
       "11978594          28.0        MADRID            1.0           NaN   \n",
       "12041260          28.0        MADRID            1.0     198122.16   \n",
       "12111000          28.0        MADRID            0.0     173862.36   \n",
       "\n",
       "                    segment  \n",
       "11978594  02 - PARTICULARES  \n",
       "12041260           01 - TOP  \n",
       "12111000  02 - PARTICULARES  \n",
       "\n",
       "[3 rows x 24 columns]"
      ]
     },
     "execution_count": 110,
     "metadata": {},
     "output_type": "execute_result"
    }
   ],
   "source": [
    "drop_na_seniority[drop_na_seniority[\"seniority\"] == -999999]"
   ]
  },
  {
   "cell_type": "code",
   "execution_count": 111,
   "metadata": {},
   "outputs": [],
   "source": [
    "drop_na_seniority = drop_na_seniority[drop_na_seniority.seniority != -999999]"
   ]
  },
  {
   "cell_type": "code",
   "execution_count": 116,
   "metadata": {},
   "outputs": [
    {
     "data": {
      "text/plain": [
       "array([[<matplotlib.axes._subplots.AxesSubplot object at 0x189200978>]],\n",
       "      dtype=object)"
      ]
     },
     "execution_count": 116,
     "metadata": {},
     "output_type": "execute_result"
    },
    {
     "data": {
      "image/png": "[encoded data removed]",
      "text/plain": [
       "<matplotlib.figure.Figure at 0x1893757b8>"
      ]
     },
     "metadata": {},
     "output_type": "display_data"
    }
   ],
   "source": [
    "drop_na_seniority.hist(column=\"seniority\", bins=10)"
   ]
  },
  {
   "cell_type": "markdown",
   "metadata": {},
   "source": [
    "## Unique Values in each field"
   ]
  },
  {
   "cell_type": "code",
   "execution_count": 115,
   "metadata": {},
   "outputs": [
    {
     "data": {
      "text/plain": [
       "array(['02 - PARTICULARES', '03 - UNIVERSITARIO', nan, '01 - TOP'],\n",
       "      dtype=object)"
      ]
     },
     "execution_count": 115,
     "metadata": {},
     "output_type": "execute_result"
    }
   ],
   "source": [
    "monthly_info[\"segment\"].unique()"
   ]
  },
  {
   "cell_type": "code",
   "execution_count": 117,
   "metadata": {},
   "outputs": [
    {
     "data": {
      "text/plain": [
       "array(['H', 'V', nan], dtype=object)"
      ]
     },
     "execution_count": 117,
     "metadata": {},
     "output_type": "execute_result"
    }
   ],
   "source": [
    "monthly_info[\"sex\"].unique()"
   ]
  },
  {
   "cell_type": "code",
   "execution_count": 118,
   "metadata": {},
   "outputs": [
    {
     "data": {
      "text/plain": [
       "array([ 0., nan,  1.])"
      ]
     },
     "execution_count": 118,
     "metadata": {},
     "output_type": "execute_result"
    }
   ],
   "source": [
    "monthly_info[\"last_6_months_flag\"].unique()"
   ]
  },
  {
   "cell_type": "code",
   "execution_count": 119,
   "metadata": {},
   "outputs": [
    {
     "data": {
      "text/plain": [
       "array([ 1., nan, 99.])"
      ]
     },
     "execution_count": 119,
     "metadata": {},
     "output_type": "execute_result"
    }
   ],
   "source": [
    "monthly_info[\"primary\"].unique()"
   ]
  },
  {
   "cell_type": "code",
   "execution_count": 120,
   "metadata": {},
   "outputs": [
    {
     "data": {
      "text/plain": [
       "array([1.0, nan, 3.0, 2.0, '1', '1.0', '3.0', '2.0', '3', '4.0', 'P', '4',\n",
       "       '2', 4.0], dtype=object)"
      ]
     },
     "execution_count": 120,
     "metadata": {},
     "output_type": "execute_result"
    }
   ],
   "source": [
    "monthly_info[\"customer_type\"].unique()"
   ]
  },
  {
   "cell_type": "code",
   "execution_count": 121,
   "metadata": {},
   "outputs": [
    {
     "data": {
      "text/plain": [
       "array(['A', 'I', nan, 'P', 'R', 'N'], dtype=object)"
      ]
     },
     "execution_count": 121,
     "metadata": {},
     "output_type": "execute_result"
    }
   ],
   "source": [
    "monthly_info[\"customer_relation\"].unique()"
   ]
  },
  {
   "cell_type": "code",
   "execution_count": 122,
   "metadata": {},
   "outputs": [
    {
     "data": {
      "text/plain": [
       "array(['S', nan, 'N'], dtype=object)"
      ]
     },
     "execution_count": 122,
     "metadata": {},
     "output_type": "execute_result"
    }
   ],
   "source": [
    "monthly_info[\"domestic_index\"].unique()"
   ]
  },
  {
   "cell_type": "code",
   "execution_count": 123,
   "metadata": {},
   "outputs": [
    {
     "data": {
      "text/plain": [
       "array(['N', 'S', nan], dtype=object)"
      ]
     },
     "execution_count": 123,
     "metadata": {},
     "output_type": "execute_result"
    }
   ],
   "source": [
    "monthly_info[\"foreigner_index\"].unique()"
   ]
  },
  {
   "cell_type": "code",
   "execution_count": 124,
   "metadata": {},
   "outputs": [
    {
     "data": {
      "text/plain": [
       "array(['KHL', 'KHE', 'KHD', 'KFA', 'KFC', 'KAT', nan, 'KAZ', 'RED', 'KHC',\n",
       "       'KHK', 'KGN', 'KHM', 'KHO', 'KDH', 'KEH', 'KAD', 'KBG', 'KGC',\n",
       "       'KHF', 'KFK', 'KHN', 'KHA', 'KAF', 'KGX', 'KFD', 'KAG', 'KFG',\n",
       "       'KAB', 'KCC', 'KAE', 'KAH', 'KAR', 'KFJ', 'KFL', 'KAI', 'KFU',\n",
       "       'KAQ', 'KFS', 'KAA', 'KFP', 'KAJ', 'KFN', 'KGV', 'KGY', 'KFF',\n",
       "       'KAP', 'KDE', 'KFV', '013', 'K00', 'KAK', 'KCK', 'KCL', 'KAY',\n",
       "       'KBU', 'KDR', 'KAC', 'KDT', 'KCG', 'KDO', 'KDY', 'KBQ', 'KDA',\n",
       "       'KBO', 'KCI', 'KEC', 'KBZ', 'KES', 'KDX', 'KAS', '007', 'KEU',\n",
       "       'KCA', 'KAL', 'KDC', 'KAW', 'KCS', 'KCB', 'KDU', 'KDQ', 'KCN',\n",
       "       'KCM', '004', 'KCH', 'KCD', 'KCE', 'KEV', 'KBL', 'KEA', 'KBH',\n",
       "       'KDV', 'KFT', 'KEY', 'KAO', 'KEJ', 'KEO', 'KEI', 'KEW', 'KDZ',\n",
       "       'KBV', 'KBR', 'KBF', 'KDP', 'KCO', 'KCF', 'KCV', 'KAM', 'KEZ',\n",
       "       'KBD', 'KAN', 'KBY', 'KCT', 'KDD', 'KBW', 'KCU', 'KBX', 'KDB',\n",
       "       'KBS', 'KBE', 'KCX', 'KBP', 'KBN', 'KEB', 'KDS', 'KEL', 'KDG',\n",
       "       'KDF', 'KEF', 'KCP', 'KDM', 'KBB', 'KDW', 'KBJ', 'KFI', 'KBM',\n",
       "       'KEG', 'KEN', 'KEQ', 'KAV', 'KFH', 'KFM', 'KAU', 'KED', 'KFR',\n",
       "       'KEK', 'KFB', 'KGW', 'KFE', 'KGU', 'KDI', 'KDN', 'KEE', 'KCR',\n",
       "       'KCQ', 'KEM', 'KCJ', 'KHQ', 'KDL', '025', 'KHP'], dtype=object)"
      ]
     },
     "execution_count": 124,
     "metadata": {},
     "output_type": "execute_result"
    }
   ],
   "source": [
    "monthly_info[\"channel\"].unique()"
   ]
  },
  {
   "cell_type": "code",
   "execution_count": 125,
   "metadata": {},
   "outputs": [
    {
     "data": {
      "text/plain": [
       "array(['N', nan, 'S'], dtype=object)"
      ]
     },
     "execution_count": 125,
     "metadata": {},
     "output_type": "execute_result"
    }
   ],
   "source": [
    "monthly_info[\"deceased_status\"].unique()"
   ]
  },
  {
   "cell_type": "code",
   "execution_count": 126,
   "metadata": {},
   "outputs": [
    {
     "data": {
      "text/plain": [
       "array([ 1., nan])"
      ]
     },
     "execution_count": 126,
     "metadata": {},
     "output_type": "execute_result"
    }
   ],
   "source": [
    "monthly_info[\"primary_address\"].unique()"
   ]
  },
  {
   "cell_type": "code",
   "execution_count": 131,
   "metadata": {},
   "outputs": [
    {
     "data": {
      "text/plain": [
       "array([29., 13., 50., 45., 24., 20., 10., 17., 49.,  8., 37.,  9., 22.,\n",
       "       31.,  5., 40., 27., 25., 28.,  3., 42., 41., 39.,  7., 47., 36.,\n",
       "       46., 44., 15., 32., 23., 16., 48., 12., 26.,  2.,  6., 30., 11.,\n",
       "       nan,  4., 19., 34., 35., 14., 21., 18., 33., 38., 52., 43.,  1.,\n",
       "       51.])"
      ]
     },
     "execution_count": 131,
     "metadata": {},
     "output_type": "execute_result"
    }
   ],
   "source": [
    "monthly_info[\"province_code\"].unique()"
   ]
  },
  {
   "cell_type": "code",
   "execution_count": 129,
   "metadata": {},
   "outputs": [
    {
     "data": {
      "text/plain": [
       "52"
      ]
     },
     "execution_count": 129,
     "metadata": {},
     "output_type": "execute_result"
    }
   ],
   "source": [
    "monthly_info[\"province_name\"].nunique()"
   ]
  },
  {
   "cell_type": "code",
   "execution_count": 132,
   "metadata": {},
   "outputs": [
    {
     "data": {
      "text/plain": [
       "array([ 1.,  0., nan])"
      ]
     },
     "execution_count": 132,
     "metadata": {},
     "output_type": "execute_result"
    }
   ],
   "source": [
    "monthly_info[\"activity_index\"].unique()"
   ]
  },
  {
   "cell_type": "code",
   "execution_count": 5,
   "metadata": {},
   "outputs": [
    {
     "data": {
      "text/plain": [
       "array(['ES', nan, 'CA', 'CH', 'CL', 'IE', 'AT', 'NL', 'FR', 'GB', 'DE',\n",
       "       'DO', 'BE', 'AR', 'VE', 'US', 'MX', 'BR', 'IT', 'EC', 'PE', 'CO',\n",
       "       'HN', 'FI', 'SE', 'AL', 'PT', 'MZ', 'CN', 'TW', 'PL', 'IN', 'CR',\n",
       "       'NI', 'HK', 'AD', 'CZ', 'AE', 'MA', 'GR', 'PR', 'RO', 'IL', 'RU',\n",
       "       'GT', 'GA', 'NO', 'SN', 'MR', 'UA', 'BG', 'PY', 'EE', 'SV', 'ET',\n",
       "       'CM', 'SA', 'CI', 'QA', 'LU', 'PA', 'BA', 'BO', 'AU', 'BY', 'KE',\n",
       "       'SG', 'HR', 'MD', 'SK', 'TR', 'AO', 'CU', 'GQ', 'EG', 'ZA', 'DK',\n",
       "       'UY', 'GE', 'TH', 'DZ', 'LB', 'JP', 'NG', 'PK', 'TN', 'TG', 'KR',\n",
       "       'GH', 'RS', 'VN', 'PH', 'KW', 'NZ', 'MM', 'KH', 'GI', 'SL', 'GN',\n",
       "       'GW', 'OM', 'CG', 'LV', 'LT', 'ML', 'MK', 'HU', 'IS', 'LY', 'CF',\n",
       "       'GM', 'KZ', 'CD', 'BZ', 'ZW', 'DJ', 'JM', 'BM', 'MT'], dtype=object)"
      ]
     },
     "execution_count": 5,
     "metadata": {},
     "output_type": "execute_result"
    }
   ],
   "source": [
    "monthly_info[\"country\"].unique()"
   ]
  },
  {
   "cell_type": "code",
   "execution_count": 20,
   "metadata": {},
   "outputs": [
    {
     "data": {
      "text/plain": [
       "segment\n",
       "01 - TOP               526727\n",
       "02 - PARTICULARES     7417624\n",
       "03 - UNIVERSITARIO    4589162\n",
       "dtype: int64"
      ]
     },
     "execution_count": 20,
     "metadata": {},
     "output_type": "execute_result"
    }
   ],
   "source": [
    "monthly_info.groupby(\"segment\").size()"
   ]
  },
  {
   "cell_type": "code",
   "execution_count": 23,
   "metadata": {},
   "outputs": [
    {
     "data": {
      "text/plain": [
       "array(['N', nan, 'A', 'B', 'F', 'S'], dtype=object)"
      ]
     },
     "execution_count": 23,
     "metadata": {},
     "output_type": "execute_result"
    }
   ],
   "source": [
    "monthly_info[\"employee_index\"].unique()"
   ]
  },
  {
   "cell_type": "markdown",
   "metadata": {},
   "source": [
    "## Observations\n",
    "\n",
    "- There's a class imbalance. The number of customers with \"current_account\" is much higher than all the other account holder customer.\n",
    "\n",
    "- More than 99% of the values in spouse_index and last_date_primary columns are null. Therefore, it'll be better to just drop the columns while preprocessing the data.\n",
    "\n",
    "- There are missing values in most of other fields, however the percentage is much lower and thus can be fixed.\n",
    "\n",
    "- Fields like seniority, age and customer_accounts have inconsistent data types e.g. 1.0 and '1.0', which will have to be fixed before giving to the model.\n",
    "\n",
    "- There's a one to one mapping between province code and province name, so it'll be better to use one of the fields.\n",
    "\n",
    "- Primary address field just have one value in it, it won't be informative while getting predictions, so the column can be dropped.\n",
    "\n",
    "- Seniority has noise values like '-99999' which maye skew the data. A decision will have to be made to whether keep it or drop it.\n"
   ]
  },
  {
   "cell_type": "code",
   "execution_count": null,
   "metadata": {},
   "outputs": [],
   "source": []
  }
 ],
 "metadata": {
  "kernelspec": {
   "display_name": "Python 3",
   "language": "python",
   "name": "python3"
  },
  "language_info": {
   "codemirror_mode": {
    "name": "ipython",
    "version": 3
   },
   "file_extension": ".py",
   "mimetype": "text/x-python",
   "name": "python",
   "nbconvert_exporter": "python",
   "pygments_lexer": "ipython3",
   "version": "3.7.1"
  }
 },
 "nbformat": 4,
 "nbformat_minor": 2
}
