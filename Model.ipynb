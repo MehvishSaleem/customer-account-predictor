{
 "cells": [
  {
   "cell_type": "markdown",
   "metadata": {},
   "source": [
    "# Preprocessing + Feature Engineering + Model\n",
    "\n",
    "This notebook contains preprocessing of the Customer Accounts data, feature engineering of the fields and experimentation with different machine learning models and techniques. The purpose is to build a model which can predict the accounts a customer would acquire based on the past customer history."
   ]
  },
  {
   "cell_type": "markdown",
   "metadata": {},
   "source": [
    "### Installing required libraries"
   ]
  },
  {
   "cell_type": "code",
   "execution_count": 2,
   "metadata": {},
   "outputs": [
    {
     "name": "stdout",
     "output_type": "stream",
     "text": [
      "Collecting scikit-multilearn\n",
      "  Using cached https://files.pythonhosted.org/packages/bb/1f/e6ff649c72a1cdf2c7a1d31eb21705110ce1c5d3e7e26b2cc300e1637272/scikit_multilearn-0.2.0-py3-none-any.whl\n",
      "Installing collected packages: scikit-multilearn\n",
      "Successfully installed scikit-multilearn-0.2.0\n"
     ]
    }
   ],
   "source": [
    "import sys\n",
    "!{sys.executable} -m pip install scikit-multilearn"
   ]
  },
  {
   "cell_type": "code",
   "execution_count": 3,
   "metadata": {},
   "outputs": [
    {
     "name": "stdout",
     "output_type": "stream",
     "text": [
      "Collecting xgboost\n",
      "  Using cached https://files.pythonhosted.org/packages/4f/4c/4969b10939c4557ae46e5569d07c0c7ce772b3d6b9c1401a6ed07059fdee/xgboost-0.81.tar.gz\n",
      "Requirement already satisfied: numpy in /anaconda3/lib/python3.7/site-packages (from xgboost) (1.15.4)\n",
      "Requirement already satisfied: scipy in /anaconda3/lib/python3.7/site-packages (from xgboost) (1.1.0)\n",
      "Building wheels for collected packages: xgboost\n",
      "  Running setup.py bdist_wheel for xgboost ... \u001b[?25ldone\n",
      "\u001b[?25h  Stored in directory: /Users/Mehvish/Library/Caches/pip/wheels/8a/89/0c/4870bb69132698f40889fa956f92e630a36c1fd7173fcc759f\n",
      "Successfully built xgboost\n",
      "Installing collected packages: xgboost\n",
      "Successfully installed xgboost-0.81\n"
     ]
    }
   ],
   "source": [
    "!{sys.executable} -m pip install xgboost"
   ]
  },
  {
   "cell_type": "code",
   "execution_count": 1,
   "metadata": {},
   "outputs": [],
   "source": [
    "import pandas as pd\n",
    "import numpy as np\n",
    "import matplotlib.pyplot as plt\n",
    "import xgboost as xgb\n",
    "\n",
    "from sklearn.preprocessing import Imputer, LabelEncoder,StandardScaler\n",
    "from sklearn.model_selection import train_test_split\n",
    "from sklearn.multiclass import OneVsRestClassifier\n",
    "from sklearn.linear_model import LogisticRegression\n",
    "from sklearn.pipeline import Pipeline\n",
    "from sklearn.metrics import accuracy_score, average_precision_score\n",
    "from collections import defaultdict"
   ]
  },
  {
   "cell_type": "markdown",
   "metadata": {},
   "source": [
    "### Class for implementing Label Encoder for multiple columns\n",
    "\n",
    "This class implements the functionality of a label encoder for multiple columns.\n",
    "Reference: https://medium.com/hugo-ferreiras-blog/dealing-with-categorical-features-in-machine-learning-1bb70f07262d\n"
   ]
  },
  {
   "cell_type": "code",
   "execution_count": 30,
   "metadata": {},
   "outputs": [],
   "source": [
    "\n",
    "class MultiColumnLabelEncoder:\n",
    "    def __init__(self,columns = None):\n",
    "        self.columns = columns # array of column names to encode\n",
    "\n",
    "    def fit(self,X,y=None):\n",
    "        return self # not relevant here\n",
    "\n",
    "    def transform(self,X):\n",
    "        '''\n",
    "        Transforms columns of X specified in self.columns using\n",
    "        LabelEncoder(). If no columns specified, transforms all\n",
    "        columns in X.\n",
    "        '''\n",
    "        output = X.copy()\n",
    "        if self.columns is not None:\n",
    "            for col in self.columns:\n",
    "                output[col] = LabelEncoder().fit_transform(output[col])\n",
    "        else:\n",
    "            for colname,col in output.iteritems():\n",
    "                output[colname] = LabelEncoder().fit_transform(col)\n",
    "        return output\n",
    "\n",
    "    def fit_transform(self,X,y=None):\n",
    "        return self.fit(X,y).transform(X)"
   ]
  },
  {
   "cell_type": "code",
   "execution_count": 2,
   "metadata": {},
   "outputs": [
    {
     "name": "stderr",
     "output_type": "stream",
     "text": [
      "/anaconda3/lib/python3.7/site-packages/IPython/core/interactiveshell.py:3020: DtypeWarning: Columns (5,8,11,15) have mixed types. Specify dtype option on import or set low_memory=False.\n",
      "  interactivity=interactivity, compiler=compiler, result=result)\n",
      "/anaconda3/lib/python3.7/site-packages/IPython/core/interactiveshell.py:3020: DtypeWarning: Columns (11,15) have mixed types. Specify dtype option on import or set low_memory=False.\n",
      "  interactivity=interactivity, compiler=compiler, result=result)\n"
     ]
    }
   ],
   "source": [
    "# loading training data\n",
    "train_accounts = pd.read_csv(\"data_csv/train/train_accounts.csv\")\n",
    "monthly_info = pd.read_csv(\"data_csv/train/train_monthly_info.csv\")\n",
    "xref = pd.read_csv(\"data_csv/train/xref.csv\")\n",
    "test_df = pd.read_csv(\"data_csv/test/test_monthly_info.csv\")"
   ]
  },
  {
   "cell_type": "markdown",
   "metadata": {},
   "source": [
    "### Undersampling \n",
    "\n",
    "As discovered during EDA, there's a class imbalance in the dataset (current_accounts has a lot more customers than any other account), so inorder to deal with that, the data from class current_accounts was undersampled."
   ]
  },
  {
   "cell_type": "code",
   "execution_count": 75,
   "metadata": {},
   "outputs": [],
   "source": [
    "def under_sample_data(X_train, train_acc, sampling_ratio=0.8):\n",
    "        curr_acc = train_acc[(train_acc[\"current_accounts\"] == 1) & (train_acc[\"guarantees\"] == 0) \n",
    "                         & (train_acc[\"savings_account\"] == 0) & (train_acc[\"derived_account\"] == 0) \n",
    "                         & (train_acc[\"particular_account\"] == 0) & (train_acc[\"particular_plus_account\"] == 0) \n",
    "                         & (train_acc[\"short_term_deposits\"] == 0) & (train_acc[\"medium_term_deposits\"] == 0) \n",
    "                         & (train_acc[\"long_term_deposits\"] == 0) & (train_acc[\"e_account\"] == 0) \n",
    "                         & (train_acc[\"funds\"] == 0) & (train_acc[\"mortgage\"] == 0) \n",
    "                         & (train_acc[\"pensions\"] == 0) & (train_acc[\"loans\"] == 0) & (train_acc[\"taxes\"] == 0) \n",
    "                         & (train_acc[\"credit_card\"] == 0) & (train_acc[\"securities\"] == 0) \n",
    "                         & (train_acc[\"home_account\"] == 0) & (train_acc[\"payroll\"] == 0) \n",
    "                         & (train_acc[\"direct_debt\"] == 0)]\n",
    "        \n",
    "        # sampling to remove 70%\n",
    "        curr_acc = curr_acc.sample(frac=sampling_ratio, random_state=1)\n",
    "        \n",
    "        # select only those which are NOT in curr_acc, i.e. the remaining 30%\n",
    "        train_acc = train_acc[~train_acc.isin(curr_acc)].dropna()\n",
    "        \n",
    "        # join with X_train to get the rows\n",
    "        sampled_X = pd.merge(X_train, train_acc, how=\"inner\",  on=[\"date\", \"cust_key\"])\n",
    "        \n",
    "        labels = list(train_acc.columns)\n",
    "        labels.remove(\"date\")\n",
    "        labels.remove(\"cust_key\")\n",
    "    \n",
    "        sampled_y_train = sampled_X[labels]\n",
    "        sampled_X_train = sampled_X.drop(labels, axis=1)\n",
    "        \n",
    "        return sampled_X_train, sampled_y_train\n"
   ]
  },
  {
   "cell_type": "markdown",
   "metadata": {},
   "source": [
    "### Preprocessing the data: \n",
    "\n",
    "Dropping spouse_index and last_date_primary because 99% of the fields were empty; dropping province_name because it has one to one mapping with province_code, so redundant feature; dropping primary address because it just has '1' so might not be that informative.\n",
    "\n",
    "There were inconsistent values in \"age\", \"seniority\" and \"customer_type\", so in order to make them consistent, typecasting them to the same type."
   ]
  },
  {
   "cell_type": "code",
   "execution_count": 3,
   "metadata": {},
   "outputs": [],
   "source": [
    "def preprocess(monthly_info_df, testing=False):\n",
    "        \n",
    "    monthly_info_df = monthly_info_df.drop(([\"spouse_index\", \"last_date_primary\", \n",
    "                                             \"province_name\", \"primary_address\", \"open_date\"]), axis=1)\n",
    "\n",
    "        \n",
    "    monthly_info_df[\"age\"] = monthly_info_df[\"age\"].astype(np.int)\n",
    "    monthly_info_df[\"seniority\"] = monthly_info_df[\"seniority\"].astype(np.int)\n",
    "    monthly_info_df[\"customer_type\"] = monthly_info_df[\"customer_type\"].astype(np.str)\n",
    "    \n",
    "    return monthly_info_df\n",
    "    "
   ]
  },
  {
   "cell_type": "markdown",
   "metadata": {},
   "source": [
    "In order to make sure that there was one to one mapping between the train accounts and monthly info, the dataframes were joined on the common customer keys and date and then the final dataframe was divided into train data (X_train) and train labels (y_train). The following function implements the above mentioned functionality."
   ]
  },
  {
   "cell_type": "code",
   "execution_count": 56,
   "metadata": {},
   "outputs": [],
   "source": [
    "\n",
    "def prepare_train_set(train_accounts, monthly_info, xref):\n",
    "    combined_df = pd.merge(train_accounts, xref, how=\"inner\", on=\"cust_key\")\n",
    "    full_train_set = pd.merge(combined_df, monthly_info, how=\"inner\", on=[\"date\", \"cust_id\"])\n",
    "    \n",
    "    # cleaning the data to remove noise\n",
    "    full_train_set = full_train_set[full_train_set.seniority != '-999999'] \n",
    "    full_train_set = full_train_set[full_train_set.seniority != '     NA']\n",
    "    full_train_set = full_train_set[full_train_set.age != ' NA']\n",
    "    \n",
    "    labels = list(train_accounts.columns)\n",
    "    \n",
    "    y_train = full_train_set[labels]\n",
    "    \n",
    "    labels.remove(\"date\")\n",
    "    labels.remove(\"cust_key\")\n",
    "    X_train = full_train_set.drop(labels, axis=1)\n",
    "                              \n",
    "    return X_train, y_train"
   ]
  },
  {
   "cell_type": "markdown",
   "metadata": {},
   "source": [
    "The following function is used to fill the missing values in the data. If the column type is categorical, it fills the missing value with the most frequent value of the column. Otherwise, it takes an average of the column and fills the missing spots with it."
   ]
  },
  {
   "cell_type": "code",
   "execution_count": 5,
   "metadata": {},
   "outputs": [],
   "source": [
    "def fill_missing_values(customer_info_df, categorical, numerical):\n",
    "    for feat in categorical:\n",
    "        customer_info_df[feat].fillna(customer_info_df[feat].mode()[0], inplace=True)\n",
    "    \n",
    "    imputer = Imputer(missing_values=np.nan, strategy='mean', axis=1)\n",
    "    for feat in numerical:\n",
    "        customer_info_df[feat] = imputer.fit_transform([customer_info_df[feat]]).T"
   ]
  },
  {
   "cell_type": "code",
   "execution_count": 57,
   "metadata": {},
   "outputs": [],
   "source": [
    "X_train, y_train = prepare_train_set(train_accounts, monthly_info, xref)"
   ]
  },
  {
   "cell_type": "code",
   "execution_count": 61,
   "metadata": {},
   "outputs": [],
   "source": [
    "X_train = preprocess(X_train)"
   ]
  },
  {
   "cell_type": "code",
   "execution_count": 10,
   "metadata": {},
   "outputs": [],
   "source": [
    "categorical_feats = [\"segment\", \"employee_index\", \"channel\", \"country\", \"sex\",\n",
    "                    \"last_6_months_flag\", \"primary\", \"customer_type\", \"customer_relation\",\n",
    "                     \"domestic_index\", \"foreigner_index\", \"deceased_status\",\n",
    "                     \"province_code\", \"activity_index\"]\n",
    "numerical_feats = [\"age\", \"seniority\", \"gross_income\"]"
   ]
  },
  {
   "cell_type": "code",
   "execution_count": 62,
   "metadata": {},
   "outputs": [
    {
     "name": "stderr",
     "output_type": "stream",
     "text": [
      "/anaconda3/lib/python3.7/site-packages/sklearn/utils/deprecation.py:58: DeprecationWarning: Class Imputer is deprecated; Imputer was deprecated in version 0.20 and will be removed in 0.22. Import impute.SimpleImputer from sklearn instead.\n",
      "  warnings.warn(msg, category=DeprecationWarning)\n"
     ]
    }
   ],
   "source": [
    "fill_missing_values(X_train, categorical_feats, numerical_feats)"
   ]
  },
  {
   "cell_type": "code",
   "execution_count": 63,
   "metadata": {},
   "outputs": [],
   "source": [
    "# making a copy so the original DF doesn't get affected.\n",
    "\n",
    "X_train_encode = X_train.copy()"
   ]
  },
  {
   "cell_type": "code",
   "execution_count": 64,
   "metadata": {},
   "outputs": [],
   "source": [
    "X_train_encode = X_train_encode.drop(['date', 'cust_key', 'cust_id'], axis=1)"
   ]
  },
  {
   "cell_type": "code",
   "execution_count": 65,
   "metadata": {},
   "outputs": [],
   "source": [
    "X_test = preprocess(test_df, testing=True)"
   ]
  },
  {
   "cell_type": "code",
   "execution_count": 66,
   "metadata": {},
   "outputs": [
    {
     "name": "stderr",
     "output_type": "stream",
     "text": [
      "/anaconda3/lib/python3.7/site-packages/sklearn/utils/deprecation.py:58: DeprecationWarning: Class Imputer is deprecated; Imputer was deprecated in version 0.20 and will be removed in 0.22. Import impute.SimpleImputer from sklearn instead.\n",
      "  warnings.warn(msg, category=DeprecationWarning)\n"
     ]
    }
   ],
   "source": [
    "fill_missing_values(X_test, categorical_feats, numerical_feats)"
   ]
  },
  {
   "cell_type": "code",
   "execution_count": 67,
   "metadata": {},
   "outputs": [],
   "source": [
    "X_test = X_test.drop(['date', 'cust_id'], axis=1)"
   ]
  },
  {
   "cell_type": "code",
   "execution_count": 68,
   "metadata": {},
   "outputs": [
    {
     "data": {
      "text/plain": [
       "Index(['employee_index', 'country', 'sex', 'age', 'last_6_months_flag',\n",
       "       'seniority', 'primary', 'customer_type', 'customer_relation',\n",
       "       'domestic_index', 'foreigner_index', 'channel', 'deceased_status',\n",
       "       'province_code', 'activity_index', 'gross_income', 'segment'],\n",
       "      dtype='object')"
      ]
     },
     "execution_count": 68,
     "metadata": {},
     "output_type": "execute_result"
    }
   ],
   "source": [
    "X_train_encode.columns"
   ]
  },
  {
   "cell_type": "code",
   "execution_count": 69,
   "metadata": {},
   "outputs": [
    {
     "data": {
      "text/plain": [
       "Index(['employee_index', 'country', 'sex', 'age', 'last_6_months_flag',\n",
       "       'seniority', 'primary', 'customer_type', 'customer_relation',\n",
       "       'domestic_index', 'foreigner_index', 'channel', 'deceased_status',\n",
       "       'province_code', 'activity_index', 'gross_income', 'segment'],\n",
       "      dtype='object')"
      ]
     },
     "execution_count": 69,
     "metadata": {},
     "output_type": "execute_result"
    }
   ],
   "source": [
    "X_test.columns"
   ]
  },
  {
   "cell_type": "code",
   "execution_count": 28,
   "metadata": {},
   "outputs": [],
   "source": [
    "encode_df = pd.concat([X_train_encode, X_test])"
   ]
  },
  {
   "cell_type": "markdown",
   "metadata": {},
   "source": [
    "### Encoding categorical variables with a Label Encoder"
   ]
  },
  {
   "cell_type": "code",
   "execution_count": 31,
   "metadata": {},
   "outputs": [],
   "source": [
    "encoder = MultiColumnLabelEncoder(columns = categorical_feats)"
   ]
  },
  {
   "cell_type": "code",
   "execution_count": 35,
   "metadata": {},
   "outputs": [],
   "source": [
    "encoder.fit_transform(encode_df)"
   ]
  },
  {
   "cell_type": "code",
   "execution_count": 34,
   "metadata": {},
   "outputs": [
    {
     "data": {
      "text/html": [
       "<div>\n",
       "<style scoped>\n",
       "    .dataframe tbody tr th:only-of-type {\n",
       "        vertical-align: middle;\n",
       "    }\n",
       "\n",
       "    .dataframe tbody tr th {\n",
       "        vertical-align: top;\n",
       "    }\n",
       "\n",
       "    .dataframe thead th {\n",
       "        text-align: right;\n",
       "    }\n",
       "</style>\n",
       "<table border=\"1\" class=\"dataframe\">\n",
       "  <thead>\n",
       "    <tr style=\"text-align: right;\">\n",
       "      <th></th>\n",
       "      <th>employee_index</th>\n",
       "      <th>country</th>\n",
       "      <th>sex</th>\n",
       "      <th>age</th>\n",
       "      <th>last_6_months_flag</th>\n",
       "      <th>seniority</th>\n",
       "      <th>primary</th>\n",
       "      <th>customer_type</th>\n",
       "      <th>customer_relation</th>\n",
       "      <th>domestic_index</th>\n",
       "      <th>foreigner_index</th>\n",
       "      <th>channel</th>\n",
       "      <th>deceased_status</th>\n",
       "      <th>province_code</th>\n",
       "      <th>activity_index</th>\n",
       "      <th>gross_income</th>\n",
       "      <th>segment</th>\n",
       "    </tr>\n",
       "  </thead>\n",
       "  <tbody>\n",
       "    <tr>\n",
       "      <th>0</th>\n",
       "      <td>3</td>\n",
       "      <td>36</td>\n",
       "      <td>0</td>\n",
       "      <td>35.0</td>\n",
       "      <td>0</td>\n",
       "      <td>6.0</td>\n",
       "      <td>0</td>\n",
       "      <td>1</td>\n",
       "      <td>0</td>\n",
       "      <td>1</td>\n",
       "      <td>0</td>\n",
       "      <td>153</td>\n",
       "      <td>0</td>\n",
       "      <td>28</td>\n",
       "      <td>1</td>\n",
       "      <td>87218.1</td>\n",
       "      <td>1</td>\n",
       "    </tr>\n",
       "    <tr>\n",
       "      <th>1</th>\n",
       "      <td>3</td>\n",
       "      <td>36</td>\n",
       "      <td>0</td>\n",
       "      <td>35.0</td>\n",
       "      <td>0</td>\n",
       "      <td>6.0</td>\n",
       "      <td>0</td>\n",
       "      <td>1</td>\n",
       "      <td>0</td>\n",
       "      <td>1</td>\n",
       "      <td>0</td>\n",
       "      <td>153</td>\n",
       "      <td>0</td>\n",
       "      <td>28</td>\n",
       "      <td>1</td>\n",
       "      <td>87218.1</td>\n",
       "      <td>1</td>\n",
       "    </tr>\n",
       "    <tr>\n",
       "      <th>2</th>\n",
       "      <td>3</td>\n",
       "      <td>36</td>\n",
       "      <td>0</td>\n",
       "      <td>35.0</td>\n",
       "      <td>0</td>\n",
       "      <td>6.0</td>\n",
       "      <td>0</td>\n",
       "      <td>1</td>\n",
       "      <td>0</td>\n",
       "      <td>1</td>\n",
       "      <td>0</td>\n",
       "      <td>153</td>\n",
       "      <td>0</td>\n",
       "      <td>28</td>\n",
       "      <td>1</td>\n",
       "      <td>87218.1</td>\n",
       "      <td>1</td>\n",
       "    </tr>\n",
       "    <tr>\n",
       "      <th>3</th>\n",
       "      <td>3</td>\n",
       "      <td>36</td>\n",
       "      <td>0</td>\n",
       "      <td>35.0</td>\n",
       "      <td>0</td>\n",
       "      <td>6.0</td>\n",
       "      <td>0</td>\n",
       "      <td>1</td>\n",
       "      <td>0</td>\n",
       "      <td>1</td>\n",
       "      <td>0</td>\n",
       "      <td>153</td>\n",
       "      <td>0</td>\n",
       "      <td>28</td>\n",
       "      <td>1</td>\n",
       "      <td>87218.1</td>\n",
       "      <td>1</td>\n",
       "    </tr>\n",
       "    <tr>\n",
       "      <th>4</th>\n",
       "      <td>3</td>\n",
       "      <td>36</td>\n",
       "      <td>0</td>\n",
       "      <td>35.0</td>\n",
       "      <td>0</td>\n",
       "      <td>6.0</td>\n",
       "      <td>0</td>\n",
       "      <td>1</td>\n",
       "      <td>0</td>\n",
       "      <td>1</td>\n",
       "      <td>0</td>\n",
       "      <td>153</td>\n",
       "      <td>0</td>\n",
       "      <td>28</td>\n",
       "      <td>1</td>\n",
       "      <td>87218.1</td>\n",
       "      <td>1</td>\n",
       "    </tr>\n",
       "  </tbody>\n",
       "</table>\n",
       "</div>"
      ],
      "text/plain": [
       "   employee_index  country  sex   age  last_6_months_flag  seniority  primary  \\\n",
       "0               3       36    0  35.0                   0        6.0        0   \n",
       "1               3       36    0  35.0                   0        6.0        0   \n",
       "2               3       36    0  35.0                   0        6.0        0   \n",
       "3               3       36    0  35.0                   0        6.0        0   \n",
       "4               3       36    0  35.0                   0        6.0        0   \n",
       "\n",
       "   customer_type  customer_relation  domestic_index  foreigner_index  channel  \\\n",
       "0              1                  0               1                0      153   \n",
       "1              1                  0               1                0      153   \n",
       "2              1                  0               1                0      153   \n",
       "3              1                  0               1                0      153   \n",
       "4              1                  0               1                0      153   \n",
       "\n",
       "   deceased_status  province_code  activity_index  gross_income  segment  \n",
       "0                0             28               1       87218.1        1  \n",
       "1                0             28               1       87218.1        1  \n",
       "2                0             28               1       87218.1        1  \n",
       "3                0             28               1       87218.1        1  \n",
       "4                0             28               1       87218.1        1  "
      ]
     },
     "execution_count": 34,
     "metadata": {},
     "output_type": "execute_result"
    }
   ],
   "source": [
    "encoder.transform(X_train_encode)[:5]"
   ]
  },
  {
   "cell_type": "code",
   "execution_count": 76,
   "metadata": {},
   "outputs": [],
   "source": [
    "sampled_X, sampled_y = under_sample_data(X_train, y_train, sampling_ratio=0.95)\n"
   ]
  },
  {
   "cell_type": "code",
   "execution_count": 79,
   "metadata": {},
   "outputs": [],
   "source": [
    "sampled_X = sampled_X.drop(['date', 'cust_key', 'cust_id'], axis=1)"
   ]
  },
  {
   "cell_type": "code",
   "execution_count": 80,
   "metadata": {},
   "outputs": [
    {
     "data": {
      "text/plain": [
       "(7248878, 17)"
      ]
     },
     "execution_count": 80,
     "metadata": {},
     "output_type": "execute_result"
    }
   ],
   "source": [
    "sampled_X.shape"
   ]
  },
  {
   "cell_type": "code",
   "execution_count": 82,
   "metadata": {},
   "outputs": [
    {
     "data": {
      "text/plain": [
       "(7248878, 23)"
      ]
     },
     "execution_count": 82,
     "metadata": {},
     "output_type": "execute_result"
    }
   ],
   "source": [
    "sampled_y.shape"
   ]
  },
  {
   "cell_type": "code",
   "execution_count": 100,
   "metadata": {},
   "outputs": [],
   "source": [
    "X = encoder.transform(sampled_X)\n",
    "y = sampled_y.copy()"
   ]
  },
  {
   "cell_type": "markdown",
   "metadata": {},
   "source": [
    "#### Class distribution after undersampling"
   ]
  },
  {
   "cell_type": "code",
   "execution_count": 83,
   "metadata": {},
   "outputs": [
    {
     "data": {
      "text/plain": [
       "<matplotlib.axes._subplots.AxesSubplot at 0x1a7d27ee80>"
      ]
     },
     "execution_count": 83,
     "metadata": {},
     "output_type": "execute_result"
    },
    {
     "data": {
      "image/png": "[encoded data removed]",
      "text/plain": [
       "<Figure size 432x288 with 1 Axes>"
      ]
     },
     "metadata": {
      "needs_background": "light"
     },
     "output_type": "display_data"
    }
   ],
   "source": [
    "# sampled_classes = sampled_train_accounts.drop([\"date\", \"cust_key\"], axis=1)\n",
    "sampled_y.sum().plot.bar()"
   ]
  },
  {
   "cell_type": "markdown",
   "metadata": {},
   "source": [
    "### Resampling\n",
    "\n",
    "Since the size of the data is huge, a random sample is used to train different models."
   ]
  },
  {
   "cell_type": "code",
   "execution_count": 196,
   "metadata": {},
   "outputs": [],
   "source": [
    "def resample_df(X_train_df, y_train_df, sampling_ratio):\n",
    "    combined_train = pd.concat([X_train_df, y_train_df], axis=1)\n",
    "\n",
    "    combined_train = combined_train.sample(frac=sampling_ratio, random_state=1)\n",
    "\n",
    "\n",
    "    labels = list(y_train_df.columns)\n",
    "\n",
    "    # remove \"temp\" when decided on a sampling ratio\n",
    "    y_train_temp = combined_train[labels]\n",
    "    X_train_temp = combined_train.drop(labels, axis=1)\n",
    "    \n",
    "\n",
    "    X_t, X_test, y_t, y_test = train_test_split(X_train_temp, y_train_temp, \n",
    "                                                test_size=0.30, random_state=42)\n",
    "    return X_t, X_test, y_t, y_test"
   ]
  },
  {
   "cell_type": "markdown",
   "metadata": {},
   "source": [
    "# Models\n",
    "\n",
    "The following section contains different experiments with Logistic Regression and XGBoost. OneVsRestClassifier is a strategy which independently fits the model on each label, one by one."
   ]
  },
  {
   "cell_type": "markdown",
   "metadata": {},
   "source": [
    "## Experiment 1: Logistic Regression + Label Encoder"
   ]
  },
  {
   "cell_type": "code",
   "execution_count": 84,
   "metadata": {},
   "outputs": [],
   "source": [
    "LogReg_pipeline = Pipeline([('clf', OneVsRestClassifier(LogisticRegression(solver='sag'), \n",
    "                                                        n_jobs=-1)),])"
   ]
  },
  {
   "cell_type": "code",
   "execution_count": 102,
   "metadata": {},
   "outputs": [],
   "source": [
    "X_train, X_test, y_train, y_test = resample_df(X, y, sampling_ratio=0.1)"
   ]
  },
  {
   "cell_type": "code",
   "execution_count": 96,
   "metadata": {},
   "outputs": [],
   "source": [
    "def logistic_regression(X_t, y_t, X_test, y_test):\n",
    "    result_df = pd.DataFrame()\n",
    "    for label in y_t.columns:\n",
    "        print('**Processing {} label...**'.format(label))\n",
    "\n",
    "        # Training logistic regression model on train data\n",
    "        LogReg_pipeline.fit(X_t, y_t[label])\n",
    "\n",
    "        # calculating test accuracy\n",
    "        prediction = LogReg_pipeline.predict_proba(X_test)[:,1]\n",
    "        result_df[label] = prediction\n",
    "        print('Test average_precision_score is {}'.format(average_precision_score(y_test[label], prediction)))\n",
    "        print(\"\\n\")\n",
    "    return result_df"
   ]
  },
  {
   "cell_type": "code",
   "execution_count": 105,
   "metadata": {},
   "outputs": [],
   "source": [
    "# sampling ratio 0.1\n",
    "y_scores_ = logistic_regression(X_train, y_train, X_test, y_test)"
   ]
  },
  {
   "cell_type": "markdown",
   "metadata": {},
   "source": [
    "## Experiment 2: Logistic Regression + Label Encoder + Normalization"
   ]
  },
  {
   "cell_type": "code",
   "execution_count": 106,
   "metadata": {},
   "outputs": [],
   "source": [
    "from sklearn.preprocessing import StandardScaler"
   ]
  },
  {
   "cell_type": "code",
   "execution_count": 107,
   "metadata": {},
   "outputs": [
    {
     "name": "stderr",
     "output_type": "stream",
     "text": [
      "/anaconda3/lib/python3.7/site-packages/sklearn/preprocessing/data.py:625: DataConversionWarning: Data with input dtype int64, float64 were all converted to float64 by StandardScaler.\n",
      "  return self.partial_fit(X, y)\n",
      "/anaconda3/lib/python3.7/site-packages/sklearn/base.py:462: DataConversionWarning: Data with input dtype int64, float64 were all converted to float64 by StandardScaler.\n",
      "  return self.fit(X, **fit_params).transform(X)\n"
     ]
    }
   ],
   "source": [
    "X_train_scale = X.copy()\n",
    "X_train_scale.loc[:,:] = StandardScaler().fit_transform(X_train_scale)"
   ]
  },
  {
   "cell_type": "code",
   "execution_count": 108,
   "metadata": {},
   "outputs": [
    {
     "data": {
      "text/html": [
       "<div>\n",
       "<style scoped>\n",
       "    .dataframe tbody tr th:only-of-type {\n",
       "        vertical-align: middle;\n",
       "    }\n",
       "\n",
       "    .dataframe tbody tr th {\n",
       "        vertical-align: top;\n",
       "    }\n",
       "\n",
       "    .dataframe thead th {\n",
       "        text-align: right;\n",
       "    }\n",
       "</style>\n",
       "<table border=\"1\" class=\"dataframe\">\n",
       "  <thead>\n",
       "    <tr style=\"text-align: right;\">\n",
       "      <th></th>\n",
       "      <th>employee_index</th>\n",
       "      <th>country</th>\n",
       "      <th>sex</th>\n",
       "      <th>age</th>\n",
       "      <th>last_6_months_flag</th>\n",
       "      <th>seniority</th>\n",
       "      <th>primary</th>\n",
       "      <th>customer_type</th>\n",
       "      <th>customer_relation</th>\n",
       "      <th>domestic_index</th>\n",
       "      <th>foreigner_index</th>\n",
       "      <th>channel</th>\n",
       "      <th>deceased_status</th>\n",
       "      <th>province_code</th>\n",
       "      <th>activity_index</th>\n",
       "      <th>gross_income</th>\n",
       "      <th>segment</th>\n",
       "    </tr>\n",
       "  </thead>\n",
       "  <tbody>\n",
       "    <tr>\n",
       "      <th>0</th>\n",
       "      <td>0.029725</td>\n",
       "      <td>-0.024099</td>\n",
       "      <td>-1.193723</td>\n",
       "      <td>-0.636722</td>\n",
       "      <td>-0.220107</td>\n",
       "      <td>-0.051900</td>\n",
       "      <td>-0.053481</td>\n",
       "      <td>0.175896</td>\n",
       "      <td>-0.879407</td>\n",
       "      <td>0.070974</td>\n",
       "      <td>-0.224303</td>\n",
       "      <td>1.229174</td>\n",
       "      <td>-0.060604</td>\n",
       "      <td>0.172389</td>\n",
       "      <td>0.916132</td>\n",
       "      <td>-0.249143</td>\n",
       "      <td>-0.187351</td>\n",
       "    </tr>\n",
       "    <tr>\n",
       "      <th>1</th>\n",
       "      <td>0.029725</td>\n",
       "      <td>-0.024099</td>\n",
       "      <td>-1.193723</td>\n",
       "      <td>-0.636722</td>\n",
       "      <td>-0.220107</td>\n",
       "      <td>-0.051900</td>\n",
       "      <td>-0.053481</td>\n",
       "      <td>0.175896</td>\n",
       "      <td>-0.879407</td>\n",
       "      <td>0.070974</td>\n",
       "      <td>-0.224303</td>\n",
       "      <td>1.229174</td>\n",
       "      <td>-0.060604</td>\n",
       "      <td>0.172389</td>\n",
       "      <td>0.916132</td>\n",
       "      <td>-0.249143</td>\n",
       "      <td>-0.187351</td>\n",
       "    </tr>\n",
       "    <tr>\n",
       "      <th>2</th>\n",
       "      <td>0.029725</td>\n",
       "      <td>-0.024099</td>\n",
       "      <td>-1.193723</td>\n",
       "      <td>-0.636722</td>\n",
       "      <td>-0.220107</td>\n",
       "      <td>-0.051900</td>\n",
       "      <td>-0.053481</td>\n",
       "      <td>0.175896</td>\n",
       "      <td>-0.879407</td>\n",
       "      <td>0.070974</td>\n",
       "      <td>-0.224303</td>\n",
       "      <td>1.229174</td>\n",
       "      <td>-0.060604</td>\n",
       "      <td>0.172389</td>\n",
       "      <td>0.916132</td>\n",
       "      <td>-0.249143</td>\n",
       "      <td>-0.187351</td>\n",
       "    </tr>\n",
       "    <tr>\n",
       "      <th>3</th>\n",
       "      <td>0.029725</td>\n",
       "      <td>-0.024099</td>\n",
       "      <td>0.837715</td>\n",
       "      <td>-1.350240</td>\n",
       "      <td>-0.220107</td>\n",
       "      <td>-0.033950</td>\n",
       "      <td>-0.053481</td>\n",
       "      <td>-1.035483</td>\n",
       "      <td>1.123574</td>\n",
       "      <td>0.070974</td>\n",
       "      <td>4.458258</td>\n",
       "      <td>1.174237</td>\n",
       "      <td>-0.060604</td>\n",
       "      <td>-1.156440</td>\n",
       "      <td>-1.091546</td>\n",
       "      <td>-0.480638</td>\n",
       "      <td>1.941231</td>\n",
       "    </tr>\n",
       "    <tr>\n",
       "      <th>4</th>\n",
       "      <td>0.029725</td>\n",
       "      <td>-0.024099</td>\n",
       "      <td>0.837715</td>\n",
       "      <td>-1.350240</td>\n",
       "      <td>-0.220107</td>\n",
       "      <td>-0.031146</td>\n",
       "      <td>-0.053481</td>\n",
       "      <td>0.175896</td>\n",
       "      <td>1.123574</td>\n",
       "      <td>0.070974</td>\n",
       "      <td>-0.224303</td>\n",
       "      <td>1.174237</td>\n",
       "      <td>-0.060604</td>\n",
       "      <td>-1.156440</td>\n",
       "      <td>-1.091546</td>\n",
       "      <td>-0.092506</td>\n",
       "      <td>1.941231</td>\n",
       "    </tr>\n",
       "  </tbody>\n",
       "</table>\n",
       "</div>"
      ],
      "text/plain": [
       "   employee_index   country       sex       age  last_6_months_flag  \\\n",
       "0        0.029725 -0.024099 -1.193723 -0.636722           -0.220107   \n",
       "1        0.029725 -0.024099 -1.193723 -0.636722           -0.220107   \n",
       "2        0.029725 -0.024099 -1.193723 -0.636722           -0.220107   \n",
       "3        0.029725 -0.024099  0.837715 -1.350240           -0.220107   \n",
       "4        0.029725 -0.024099  0.837715 -1.350240           -0.220107   \n",
       "\n",
       "   seniority   primary  customer_type  customer_relation  domestic_index  \\\n",
       "0  -0.051900 -0.053481       0.175896          -0.879407        0.070974   \n",
       "1  -0.051900 -0.053481       0.175896          -0.879407        0.070974   \n",
       "2  -0.051900 -0.053481       0.175896          -0.879407        0.070974   \n",
       "3  -0.033950 -0.053481      -1.035483           1.123574        0.070974   \n",
       "4  -0.031146 -0.053481       0.175896           1.123574        0.070974   \n",
       "\n",
       "   foreigner_index   channel  deceased_status  province_code  activity_index  \\\n",
       "0        -0.224303  1.229174        -0.060604       0.172389        0.916132   \n",
       "1        -0.224303  1.229174        -0.060604       0.172389        0.916132   \n",
       "2        -0.224303  1.229174        -0.060604       0.172389        0.916132   \n",
       "3         4.458258  1.174237        -0.060604      -1.156440       -1.091546   \n",
       "4        -0.224303  1.174237        -0.060604      -1.156440       -1.091546   \n",
       "\n",
       "   gross_income   segment  \n",
       "0     -0.249143 -0.187351  \n",
       "1     -0.249143 -0.187351  \n",
       "2     -0.249143 -0.187351  \n",
       "3     -0.480638  1.941231  \n",
       "4     -0.092506  1.941231  "
      ]
     },
     "execution_count": 108,
     "metadata": {},
     "output_type": "execute_result"
    }
   ],
   "source": [
    "X_train_scale[:5]"
   ]
  },
  {
   "cell_type": "code",
   "execution_count": 191,
   "metadata": {},
   "outputs": [],
   "source": [
    "X_train, X_test, y_train, y_test = resample_df(X_train_scale, y, sampling_ratio=0.5)"
   ]
  },
  {
   "cell_type": "code",
   "execution_count": 112,
   "metadata": {},
   "outputs": [],
   "source": [
    "# with 0.5 sampling ratio\n",
    "y_scores_ = logistic_regression(X_train, y_train, X_test, y_test)"
   ]
  },
  {
   "cell_type": "code",
   "execution_count": null,
   "metadata": {},
   "outputs": [],
   "source": [
    "# sampling ration 0.1\n",
    "X_train, X_test, y_train, y_test = resample_df(X_train_scale, y, sampling_ratio=0.1)"
   ]
  },
  {
   "cell_type": "code",
   "execution_count": 216,
   "metadata": {},
   "outputs": [
    {
     "name": "stdout",
     "output_type": "stream",
     "text": [
      "**Processing savings_account label...**\n"
     ]
    },
    {
     "name": "stderr",
     "output_type": "stream",
     "text": [
      "/usr/local/Cellar/python3/3.6.4_2/Frameworks/Python.framework/Versions/3.6/lib/python3.6/site-packages/sklearn/linear_model/sag.py:326: ConvergenceWarning: The max_iter was reached which means the coef_ did not converge\n",
      "  \"the coef_ did not converge\", ConvergenceWarning)\n"
     ]
    },
    {
     "name": "stdout",
     "output_type": "stream",
     "text": [
      "Test average_precision_score is 0.0014457660890482534\n",
      "\n",
      "\n",
      "**Processing guarantees label...**\n"
     ]
    },
    {
     "name": "stderr",
     "output_type": "stream",
     "text": [
      "/usr/local/Cellar/python3/3.6.4_2/Frameworks/Python.framework/Versions/3.6/lib/python3.6/site-packages/sklearn/linear_model/sag.py:326: ConvergenceWarning: The max_iter was reached which means the coef_ did not converge\n",
      "  \"the coef_ did not converge\", ConvergenceWarning)\n"
     ]
    },
    {
     "name": "stdout",
     "output_type": "stream",
     "text": [
      "Test average_precision_score is 0.22404119435390515\n",
      "\n",
      "\n",
      "**Processing current_accounts label...**\n",
      "Test average_precision_score is 0.6461387175111962\n",
      "\n",
      "\n",
      "**Processing derived_account label...**\n"
     ]
    },
    {
     "name": "stderr",
     "output_type": "stream",
     "text": [
      "/usr/local/Cellar/python3/3.6.4_2/Frameworks/Python.framework/Versions/3.6/lib/python3.6/site-packages/sklearn/linear_model/sag.py:326: ConvergenceWarning: The max_iter was reached which means the coef_ did not converge\n",
      "  \"the coef_ did not converge\", ConvergenceWarning)\n"
     ]
    },
    {
     "name": "stdout",
     "output_type": "stream",
     "text": [
      "Test average_precision_score is 0.004297135674446141\n",
      "\n",
      "\n",
      "**Processing payroll_account label...**\n",
      "Test average_precision_score is 0.29846967750136777\n",
      "\n",
      "\n",
      "**Processing junior_account label...**\n"
     ]
    },
    {
     "name": "stderr",
     "output_type": "stream",
     "text": [
      "/usr/local/Cellar/python3/3.6.4_2/Frameworks/Python.framework/Versions/3.6/lib/python3.6/site-packages/sklearn/linear_model/sag.py:326: ConvergenceWarning: The max_iter was reached which means the coef_ did not converge\n",
      "  \"the coef_ did not converge\", ConvergenceWarning)\n"
     ]
    },
    {
     "name": "stdout",
     "output_type": "stream",
     "text": [
      "Test average_precision_score is 0.954664156102519\n",
      "\n",
      "\n",
      "**Processing more_particular_account label...**\n",
      "Test average_precision_score is 0.04918045635458529\n",
      "\n",
      "\n",
      "**Processing particular_account label...**\n"
     ]
    },
    {
     "name": "stderr",
     "output_type": "stream",
     "text": [
      "/usr/local/Cellar/python3/3.6.4_2/Frameworks/Python.framework/Versions/3.6/lib/python3.6/site-packages/sklearn/linear_model/sag.py:326: ConvergenceWarning: The max_iter was reached which means the coef_ did not converge\n",
      "  \"the coef_ did not converge\", ConvergenceWarning)\n"
     ]
    },
    {
     "name": "stdout",
     "output_type": "stream",
     "text": [
      "Test average_precision_score is 0.48025708926954147\n",
      "\n",
      "\n",
      "**Processing particular_plus_account label...**\n"
     ]
    },
    {
     "name": "stderr",
     "output_type": "stream",
     "text": [
      "/usr/local/Cellar/python3/3.6.4_2/Frameworks/Python.framework/Versions/3.6/lib/python3.6/site-packages/sklearn/linear_model/sag.py:326: ConvergenceWarning: The max_iter was reached which means the coef_ did not converge\n",
      "  \"the coef_ did not converge\", ConvergenceWarning)\n"
     ]
    },
    {
     "name": "stdout",
     "output_type": "stream",
     "text": [
      "Test average_precision_score is 0.14728403013495156\n",
      "\n",
      "\n",
      "**Processing short_term_deposits label...**\n"
     ]
    },
    {
     "name": "stderr",
     "output_type": "stream",
     "text": [
      "/usr/local/Cellar/python3/3.6.4_2/Frameworks/Python.framework/Versions/3.6/lib/python3.6/site-packages/sklearn/linear_model/sag.py:326: ConvergenceWarning: The max_iter was reached which means the coef_ did not converge\n",
      "  \"the coef_ did not converge\", ConvergenceWarning)\n"
     ]
    },
    {
     "name": "stdout",
     "output_type": "stream",
     "text": [
      "Test average_precision_score is 0.12986853740750906\n",
      "\n",
      "\n",
      "**Processing medium_term_deposits label...**\n"
     ]
    },
    {
     "name": "stderr",
     "output_type": "stream",
     "text": [
      "/usr/local/Cellar/python3/3.6.4_2/Frameworks/Python.framework/Versions/3.6/lib/python3.6/site-packages/sklearn/linear_model/sag.py:326: ConvergenceWarning: The max_iter was reached which means the coef_ did not converge\n",
      "  \"the coef_ did not converge\", ConvergenceWarning)\n"
     ]
    },
    {
     "name": "stdout",
     "output_type": "stream",
     "text": [
      "Test average_precision_score is 0.015331879610548023\n",
      "\n",
      "\n",
      "**Processing long_term_deposits label...**\n",
      "Test average_precision_score is 0.4382799532579761\n",
      "\n",
      "\n",
      "**Processing e_account label...**\n",
      "Test average_precision_score is 0.36645542808133375\n",
      "\n",
      "\n",
      "**Processing funds label...**\n"
     ]
    },
    {
     "name": "stderr",
     "output_type": "stream",
     "text": [
      "/usr/local/Cellar/python3/3.6.4_2/Frameworks/Python.framework/Versions/3.6/lib/python3.6/site-packages/sklearn/linear_model/sag.py:326: ConvergenceWarning: The max_iter was reached which means the coef_ did not converge\n",
      "  \"the coef_ did not converge\", ConvergenceWarning)\n"
     ]
    },
    {
     "name": "stdout",
     "output_type": "stream",
     "text": [
      "Test average_precision_score is 0.20544541051730178\n",
      "\n",
      "\n",
      "**Processing mortgage label...**\n"
     ]
    },
    {
     "name": "stderr",
     "output_type": "stream",
     "text": [
      "/usr/local/Cellar/python3/3.6.4_2/Frameworks/Python.framework/Versions/3.6/lib/python3.6/site-packages/sklearn/linear_model/sag.py:326: ConvergenceWarning: The max_iter was reached which means the coef_ did not converge\n",
      "  \"the coef_ did not converge\", ConvergenceWarning)\n"
     ]
    },
    {
     "name": "stdout",
     "output_type": "stream",
     "text": [
      "Test average_precision_score is 0.05426283502777952\n",
      "\n",
      "\n",
      "**Processing pensions label...**\n"
     ]
    },
    {
     "name": "stderr",
     "output_type": "stream",
     "text": [
      "/usr/local/Cellar/python3/3.6.4_2/Frameworks/Python.framework/Versions/3.6/lib/python3.6/site-packages/sklearn/linear_model/sag.py:326: ConvergenceWarning: The max_iter was reached which means the coef_ did not converge\n",
      "  \"the coef_ did not converge\", ConvergenceWarning)\n"
     ]
    },
    {
     "name": "stdout",
     "output_type": "stream",
     "text": [
      "Test average_precision_score is 0.11320277135446673\n",
      "\n",
      "\n",
      "**Processing loans label...**\n"
     ]
    },
    {
     "name": "stderr",
     "output_type": "stream",
     "text": [
      "/usr/local/Cellar/python3/3.6.4_2/Frameworks/Python.framework/Versions/3.6/lib/python3.6/site-packages/sklearn/linear_model/sag.py:326: ConvergenceWarning: The max_iter was reached which means the coef_ did not converge\n",
      "  \"the coef_ did not converge\", ConvergenceWarning)\n"
     ]
    },
    {
     "name": "stdout",
     "output_type": "stream",
     "text": [
      "Test average_precision_score is 0.06593564339668764\n",
      "\n",
      "\n",
      "**Processing taxes label...**\n",
      "Test average_precision_score is 0.24294126211748765\n",
      "\n",
      "\n",
      "**Processing credit_card label...**\n",
      "Test average_precision_score is 0.24772587519904626\n",
      "\n",
      "\n",
      "**Processing securities label...**\n"
     ]
    },
    {
     "name": "stderr",
     "output_type": "stream",
     "text": [
      "/usr/local/Cellar/python3/3.6.4_2/Frameworks/Python.framework/Versions/3.6/lib/python3.6/site-packages/sklearn/linear_model/sag.py:326: ConvergenceWarning: The max_iter was reached which means the coef_ did not converge\n",
      "  \"the coef_ did not converge\", ConvergenceWarning)\n"
     ]
    },
    {
     "name": "stdout",
     "output_type": "stream",
     "text": [
      "Test average_precision_score is 0.2253146035856351\n",
      "\n",
      "\n",
      "**Processing home_account label...**\n"
     ]
    },
    {
     "name": "stderr",
     "output_type": "stream",
     "text": [
      "/usr/local/Cellar/python3/3.6.4_2/Frameworks/Python.framework/Versions/3.6/lib/python3.6/site-packages/sklearn/linear_model/sag.py:326: ConvergenceWarning: The max_iter was reached which means the coef_ did not converge\n",
      "  \"the coef_ did not converge\", ConvergenceWarning)\n"
     ]
    },
    {
     "name": "stdout",
     "output_type": "stream",
     "text": [
      "Test average_precision_score is 0.021727562383588032\n",
      "\n",
      "\n",
      "**Processing payroll label...**\n",
      "Test average_precision_score is 0.22505106907448935\n",
      "\n",
      "\n",
      "**Processing direct_debt label...**\n",
      "Test average_precision_score is 0.4717949999834879\n",
      "\n",
      "\n"
     ]
    }
   ],
   "source": [
    "y_scores = logistic_regression(X_train, y_train, X_test, y_test)"
   ]
  },
  {
   "cell_type": "code",
   "execution_count": 218,
   "metadata": {},
   "outputs": [
    {
     "data": {
      "text/plain": [
       "0.4868983186700266"
      ]
     },
     "execution_count": 218,
     "metadata": {},
     "output_type": "execute_result"
    }
   ],
   "source": [
    "# Average precision score for all classes:\n",
    "\n",
    "average_precision_score(y_test, y_scores, average=\"micro\")"
   ]
  },
  {
   "cell_type": "markdown",
   "metadata": {},
   "source": [
    "## Experiment 3: XGB + Label Encoder "
   ]
  },
  {
   "cell_type": "code",
   "execution_count": 114,
   "metadata": {},
   "outputs": [],
   "source": [
    "xgb_pipeline = Pipeline([('clf', OneVsRestClassifier(xgb.XGBClassifier(objective=\"binary:logistic\", \n",
    "                                                                           random_state=42), n_jobs=-1)),])"
   ]
  },
  {
   "cell_type": "code",
   "execution_count": 182,
   "metadata": {},
   "outputs": [],
   "source": [
    "def xgb_classifier(X_t, y_t, X_test, y_test, external_test_data=pd.DataFrame(), testing=False):\n",
    "    result_df = pd.DataFrame()\n",
    "    \n",
    "    for category in y_t.columns:\n",
    "        print('**Processing {} label...**'.format(category))\n",
    "\n",
    "        # Training xgb model on train data\n",
    "        xgb_pipeline.fit(X_t, y_t[category])\n",
    "\n",
    "        # calculating test accuracy\n",
    "        \n",
    "        if testing:  \n",
    "            prediction = xgb_pipeline.predict_proba(external_test_data)[:,1]\n",
    "            result_df[category] = prediction\n",
    "        \n",
    "        prediction = xgb_pipeline.predict_proba(X_test)[:,1]\n",
    "\n",
    "        print('Test average_precision_score is {}'.format(average_precision_score(y_test[category], prediction)))\n",
    "        print(\"\\n\")\n",
    "            \n",
    "    return result_df"
   ]
  },
  {
   "cell_type": "markdown",
   "metadata": {},
   "source": [
    "#### Testing for Sampling Ratio 0.1"
   ]
  },
  {
   "cell_type": "code",
   "execution_count": 202,
   "metadata": {},
   "outputs": [
    {
     "name": "stdout",
     "output_type": "stream",
     "text": [
      "(724888, 17)\n"
     ]
    }
   ],
   "source": [
    "X_train, X_test, y_train, y_test = resample_df(X, y, sampling_ratio=0.1)"
   ]
  },
  {
   "cell_type": "code",
   "execution_count": 203,
   "metadata": {},
   "outputs": [
    {
     "data": {
      "text/plain": [
       "(507421, 17)"
      ]
     },
     "execution_count": 203,
     "metadata": {},
     "output_type": "execute_result"
    }
   ],
   "source": [
    "X_train.shape"
   ]
  },
  {
   "cell_type": "code",
   "execution_count": 117,
   "metadata": {},
   "outputs": [
    {
     "name": "stdout",
     "output_type": "stream",
     "text": [
      "**Processing savings_account label...**\n",
      "Test average_precision_score is 0.01092686131486573\n",
      "\n",
      "\n",
      "**Processing guarantees label...**\n",
      "Test average_precision_score is 0.027663537878927575\n",
      "\n",
      "\n",
      "**Processing current_accounts label...**\n",
      "Test average_precision_score is 0.6863414240783428\n",
      "\n",
      "\n",
      "**Processing derived_account label...**\n",
      "Test average_precision_score is 0.0030465699186928456\n",
      "\n",
      "\n",
      "**Processing payroll_account label...**\n",
      "Test average_precision_score is 0.4216178026051454\n",
      "\n",
      "\n",
      "**Processing junior_account label...**\n",
      "Test average_precision_score is 0.9915524920647871\n",
      "\n",
      "\n",
      "**Processing more_particular_account label...**\n",
      "Test average_precision_score is 0.31764614812720643\n",
      "\n",
      "\n",
      "**Processing particular_account label...**\n",
      "Test average_precision_score is 0.6444053528685815\n",
      "\n",
      "\n",
      "**Processing particular_plus_account label...**\n",
      "Test average_precision_score is 0.39506863179114327\n",
      "\n",
      "\n",
      "**Processing short_term_deposits label...**\n",
      "Test average_precision_score is 0.2937505522199767\n",
      "\n",
      "\n",
      "**Processing medium_term_deposits label...**\n",
      "Test average_precision_score is 0.017409637450142998\n",
      "\n",
      "\n",
      "**Processing long_term_deposits label...**\n",
      "Test average_precision_score is 0.45342867692581124\n",
      "\n",
      "\n",
      "**Processing e_account label...**\n",
      "Test average_precision_score is 0.4509566630239095\n",
      "\n",
      "\n",
      "**Processing funds label...**\n",
      "Test average_precision_score is 0.22210697192890685\n",
      "\n",
      "\n",
      "**Processing mortgage label...**\n",
      "Test average_precision_score is 0.1101505278982263\n",
      "\n",
      "\n",
      "**Processing pensions label...**\n",
      "Test average_precision_score is 0.1265887601258971\n",
      "\n",
      "\n",
      "**Processing loans label...**\n",
      "Test average_precision_score is 0.39158781316358265\n",
      "\n",
      "\n",
      "**Processing taxes label...**\n",
      "Test average_precision_score is 0.2856336322674656\n",
      "\n",
      "\n",
      "**Processing credit_card label...**\n",
      "Test average_precision_score is 0.27146069663209327\n",
      "\n",
      "\n",
      "**Processing securities label...**\n",
      "Test average_precision_score is 0.2522315270429823\n",
      "\n",
      "\n",
      "**Processing home_account label...**\n",
      "Test average_precision_score is 0.036131569627894246\n",
      "\n",
      "\n",
      "**Processing payroll label...**\n",
      "Test average_precision_score is 0.33075448511005984\n",
      "\n",
      "\n",
      "**Processing direct_debt label...**\n",
      "Test average_precision_score is 0.5989706510688774\n",
      "\n",
      "\n"
     ]
    }
   ],
   "source": [
    "xgb_scores = xgb_classifier(X_train, y_train, X_test, y_test)"
   ]
  },
  {
   "cell_type": "code",
   "execution_count": 118,
   "metadata": {},
   "outputs": [
    {
     "data": {
      "text/plain": [
       "0.5585972924490238"
      ]
     },
     "execution_count": 118,
     "metadata": {},
     "output_type": "execute_result"
    }
   ],
   "source": [
    "# sampling ratio of 0.1\n",
    "average_precision_score(y_test, xgb_scores, average=\"micro\")"
   ]
  },
  {
   "cell_type": "markdown",
   "metadata": {},
   "source": [
    "#### Running for sampling ratio 0.5"
   ]
  },
  {
   "cell_type": "code",
   "execution_count": 204,
   "metadata": {},
   "outputs": [
    {
     "name": "stdout",
     "output_type": "stream",
     "text": [
      "(3624439, 17)\n"
     ]
    }
   ],
   "source": [
    "X_train, X_test, y_train, y_test = resample_df(X, y, sampling_ratio=0.5)"
   ]
  },
  {
   "cell_type": "code",
   "execution_count": 205,
   "metadata": {},
   "outputs": [
    {
     "data": {
      "text/plain": [
       "(2537107, 17)"
      ]
     },
     "execution_count": 205,
     "metadata": {},
     "output_type": "execute_result"
    }
   ],
   "source": [
    "X_train.shape"
   ]
  },
  {
   "cell_type": "markdown",
   "metadata": {},
   "source": [
    "### Getting predictions for the Test Data (May, 2016)"
   ]
  },
  {
   "cell_type": "code",
   "execution_count": 198,
   "metadata": {},
   "outputs": [],
   "source": [
    "def testing(test_df):\n",
    "    ext_test = preprocess(test_df, testing=True)\n",
    "    ext_test = ext_test.drop(['date', 'cust_id'], axis=1)\n",
    "    fill_missing_values(ext_test, categorical_feats, numerical_feats)\n",
    "    \n",
    "    print(ext_test.shape)\n",
    "    \n",
    "    ext_test = encoder.transform(ext_test)\n",
    "    return xgb_classifier(X_train, y_train, X_test, y_test, external_test_data=ext_test, testing=True)\n"
   ]
  },
  {
   "cell_type": "code",
   "execution_count": 199,
   "metadata": {},
   "outputs": [
    {
     "name": "stderr",
     "output_type": "stream",
     "text": [
      "/anaconda3/lib/python3.7/site-packages/sklearn/utils/deprecation.py:58: DeprecationWarning: Class Imputer is deprecated; Imputer was deprecated in version 0.20 and will be removed in 0.22. Import impute.SimpleImputer from sklearn instead.\n",
      "  warnings.warn(msg, category=DeprecationWarning)\n"
     ]
    },
    {
     "name": "stdout",
     "output_type": "stream",
     "text": [
      "(931453, 17)\n",
      "**Processing savings_account label...**\n",
      "Test average_precision_score is 0.01941423872976513\n",
      "\n",
      "\n",
      "**Processing guarantees label...**\n",
      "Test average_precision_score is 0.13291335468453822\n",
      "\n",
      "\n",
      "**Processing current_accounts label...**\n",
      "Test average_precision_score is 0.6860388056450235\n",
      "\n",
      "\n",
      "**Processing derived_account label...**\n",
      "Test average_precision_score is 0.004997607865875545\n",
      "\n",
      "\n",
      "**Processing payroll_account label...**\n",
      "Test average_precision_score is 0.41724918877287975\n",
      "\n",
      "\n",
      "**Processing junior_account label...**\n",
      "Test average_precision_score is 0.9916249056369185\n",
      "\n",
      "\n",
      "**Processing more_particular_account label...**\n",
      "Test average_precision_score is 0.3225274426357355\n",
      "\n",
      "\n",
      "**Processing particular_account label...**\n",
      "Test average_precision_score is 0.6446058518795131\n",
      "\n",
      "\n",
      "**Processing particular_plus_account label...**\n",
      "Test average_precision_score is 0.390628094389419\n",
      "\n",
      "\n",
      "**Processing short_term_deposits label...**\n",
      "Test average_precision_score is 0.278460466917486\n",
      "\n",
      "\n",
      "**Processing medium_term_deposits label...**\n",
      "Test average_precision_score is 0.019629663855077136\n",
      "\n",
      "\n",
      "**Processing long_term_deposits label...**\n",
      "Test average_precision_score is 0.46327077346290235\n",
      "\n",
      "\n",
      "**Processing e_account label...**\n",
      "Test average_precision_score is 0.45382679223063466\n",
      "\n",
      "\n",
      "**Processing funds label...**\n",
      "Test average_precision_score is 0.2243371988597338\n",
      "\n",
      "\n",
      "**Processing mortgage label...**\n",
      "Test average_precision_score is 0.10930332500246347\n",
      "\n",
      "\n",
      "**Processing pensions label...**\n",
      "Test average_precision_score is 0.13097924403705713\n",
      "\n",
      "\n",
      "**Processing loans label...**\n",
      "Test average_precision_score is 0.4184584951619908\n",
      "\n",
      "\n",
      "**Processing taxes label...**\n",
      "Test average_precision_score is 0.2847440442333449\n",
      "\n",
      "\n",
      "**Processing credit_card label...**\n",
      "Test average_precision_score is 0.2703616373338117\n",
      "\n",
      "\n",
      "**Processing securities label...**\n",
      "Test average_precision_score is 0.25114092930137893\n",
      "\n",
      "\n",
      "**Processing home_account label...**\n",
      "Test average_precision_score is 0.03947875591142628\n",
      "\n",
      "\n",
      "**Processing payroll label...**\n",
      "Test average_precision_score is 0.33204772321069187\n",
      "\n",
      "\n",
      "**Processing direct_debt label...**\n",
      "Test average_precision_score is 0.5984174407456065\n",
      "\n",
      "\n"
     ]
    }
   ],
   "source": [
    "monthly_predictions = testing(test_df)"
   ]
  },
  {
   "cell_type": "code",
   "execution_count": 206,
   "metadata": {},
   "outputs": [
    {
     "data": {
      "text/plain": [
       "(931453, 23)"
      ]
     },
     "execution_count": 206,
     "metadata": {},
     "output_type": "execute_result"
    }
   ],
   "source": [
    "monthly_predictions.shape"
   ]
  },
  {
   "cell_type": "markdown",
   "metadata": {},
   "source": [
    "## Conclusion\n",
    "\n",
    "Logistic regression performed better when it was given normalized data as opposed to when it was directly fed the raw dataframe. However, the performance of XGBoost was better than Logistic regression model. It also gave better results when trained on 50% of data as opposed to when it was trained with just 10%. So, with the right parameters and training done with more data, the model's performance would improve."
   ]
  },
  {
   "cell_type": "markdown",
   "metadata": {},
   "source": [
    "### Creating the submission file"
   ]
  },
  {
   "cell_type": "code",
   "execution_count": 207,
   "metadata": {},
   "outputs": [],
   "source": [
    "def create_submission():\n",
    "    col_row_tup = []\n",
    "    sorted_tup = []\n",
    "    cust_ids = list(test_df[\"cust_id\"].values)\n",
    "    \n",
    "    for idx, val in monthly_predictions.iterrows():\n",
    "        col_row_tup.append(zip(monthly_predictions.columns, val))\n",
    "        \n",
    "        \n",
    "    for each in col_row_tup:\n",
    "        sorted_tup.append(sorted(list(each), key=lambda x: x[1], reverse=True))\n",
    "\n",
    "    submission_file = open('mehvish_predictions.csv', 'w')\n",
    "    \n",
    "    \n",
    "    for idx, val in enumerate(sorted_tup):\n",
    "        print(idx)\n",
    "        submission_file.write(str(cust_ids[idx]) + \",\" + (\";\".join([x for x,v in val]))+'\\n')\n",
    "\n",
    "\n",
    "    submission_file.close()"
   ]
  },
  {
   "cell_type": "code",
   "execution_count": 209,
   "metadata": {},
   "outputs": [],
   "source": [
    "create_submission()"
   ]
  },
  {
   "cell_type": "markdown",
   "metadata": {},
   "source": [
    "# Future Work\n",
    "\n",
    "If given more time and processing power, i would've liked to try the following experiments:\n",
    "-  Try different sampling ratios for undersampling in order to deal with the class imbalance\n",
    "-  Train the model with more data \n",
    "-  Implement cross validation and grid search for parameter tuning in XGBoost\n",
    "-  Try a model which considers the dependence between output variables (Chain model) \n",
    "-  Try different ways of encoding categorical variables\n",
    "-  Engineer additional features based on customer data e.g. divide the income in bins\n",
    "-  Divide the code in different classes for data transformation, feature engineering and data modeling. \n"
   ]
  },
  {
   "cell_type": "code",
   "execution_count": null,
   "metadata": {},
   "outputs": [],
   "source": []
  }
 ],
 "metadata": {
  "kernelspec": {
   "display_name": "Python 3",
   "language": "python",
   "name": "python3"
  },
  "language_info": {
   "codemirror_mode": {
    "name": "ipython",
    "version": 3
   },
   "file_extension": ".py",
   "mimetype": "text/x-python",
   "name": "python",
   "nbconvert_exporter": "python",
   "pygments_lexer": "ipython3",
   "version": "3.7.1"
  }
 },
 "nbformat": 4,
 "nbformat_minor": 2
}
